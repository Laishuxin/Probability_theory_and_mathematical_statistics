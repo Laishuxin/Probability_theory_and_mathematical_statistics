{
 "cells": [
  {
   "cell_type": "markdown",
   "metadata": {},
   "source": [
    "# 总体、样本"
   ]
  },
  {
   "cell_type": "markdown",
   "metadata": {},
   "source": [
    "样本与总体的概念，在前面已经多次接触到，只是没有非常明确的给出定义。例如我们一般假设某个学校全体学生的身高，用随机变量X表示，近似服从正态分布，这里的正态分布就是\"总体\"的分布，字面意思就是所有待研究对象的集合。在实际的数据分析中，我们通过观察或其他测量方式得到的数据一般都只是待研究对象的一个子集，这个子集就是一个样本（可以包含多个个体）。例如通过某种方式，从全体学生中找出100名学生，这100名学生就是一个样本。\n"
   ]
  },
  {
   "cell_type": "markdown",
   "metadata": {},
   "source": [
    "## 概念\n",
    "1. 总体： 研究对象的全部个体\n",
    "2. 个体： 总体中的一个\n",
    "3. 总体容量： 总体中的个体的多少\n",
    "4. 有限总体：容量有限的总体\n",
    "5. 无限总体：容量无限(很大)的总体"
   ]
  },
  {
   "cell_type": "markdown",
   "metadata": {},
   "source": [
    "## 样本、总体、随机变量\n",
    "1. 样本：总体中的一些个体组成样本\n",
    "2. 随机变量：研究总体某个指标X(如，身高)，对于不同的个体有不同的取值，这些取值构成一个分布。因此可以称$X$是一个随机变量\n",
    "3. 有时候直接将$X$称为总体. 假设X的分布函数为$F(x)$,也称总体$X$具有分布$F(x)$."
   ]
  },
  {
   "cell_type": "markdown",
   "metadata": {},
   "source": [
    "## 简单随机样本\n",
    "  (简单地说就是，独立同分布的样本)\n",
    "  \n",
    "![](images/6_1.png)"
   ]
  },
  {
   "cell_type": "markdown",
   "metadata": {},
   "source": [
    "### 简单随机抽样\n",
    "1. 简单随机抽样：获取简单随机样本\n",
    "2. 如何进行抽样  \n",
    "    + 放回抽样：样本容量有限(小)\n",
    "    + 不放回抽样：样本容量无限(很大)"
   ]
  },
  {
   "cell_type": "markdown",
   "metadata": {},
   "source": [
    "# 统计量\n",
    "## 定义\n",
    ">统计量：样本的不含有任何未知参数的**函数**(如，平均值函数等)"
   ]
  },
  {
   "cell_type": "markdown",
   "metadata": {},
   "source": [
    "## 常用统计量\n",
    "1. 样本均值：$$\\bar{X} = \\frac{1}{n} \\sum_{i=1}^{n}X_i$$\n",
    "2. 样本方差(注意分母是n-1): $$S^2 = \\frac{1}{n-1} \\sum_{i=1}^{n}(X_i - \\bar{X})^2$$  \n",
    "样本标准差：$$S = \\sqrt{S^2}$$  \n",
    "3. 样本矩：  \n",
    "k阶矩：$$A_k = \\frac{1}{n} \\sum_{i=1}^{n}X_i^k$$  \n",
    "k阶中心距：$$B_k = \\frac{1}{n} \\sum_{i=1}^{n}(X_i - \\bar{X}^k)$$  \n",
    "$$k = 1,2,\\cdots$$"
   ]
  },
  {
   "cell_type": "markdown",
   "metadata": {},
   "source": [
    "### 相关问题\n",
    "#### $\\bar{X} = \\mu$？\n",
    "![](images/6_2.png)\n",
    "#### 样本方差分母为什么的n-1\n",
    "##### 无偏估计\n",
    "1. 简单定义：估计量的期望等于估计参数的真值\n",
    "2. 理解\n",
    "设想一下，想知道全体女性的身高均值$\\mu$ ,但是我们没有办法对每个女性进行测量，只能抽一部分人来估计全体女性的身高，那么根据抽样的数据如何进行推断？什么样的推断方法才称得上‘准确’？\n",
    "<br>\n",
    "比如：我们得到的样本女性身高为：\n",
    "<center>${x_1,x_2···,x_n}$</center>\n",
    "那么，\n",
    "<br>\n",
    "<center>$\\bar{x} = \\frac{x_1+x_2+···+x_n}{n}$</center>\n",
    "<br>\n",
    "对于$\\mu$来说是一个不错的估计，因为它是无偏估计。(即，$\\bar{X}$可以近似的代替$\\mu$)\n",
    "<br>\n",
    "3. 方差$\\sigma^2$的无偏估计    \n",
    "假设：$\\mu$已知，而$\\sigma^2$未知\n",
    "<br>\n",
    "由方差的定义有(对于单个样本)： <br> \n",
    "$E[(X_i - \\mu)^2] = \\sigma^2, i= 1,2,···,n$\n",
    "<br>\n",
    "$=>$\n",
    "<br>\n",
    "(对于所有样本)\n",
    "<br>\n",
    "$E[\\frac{1}{n} \\displaystyle \\sum_{i=1}^{n}(X_i - \\mu)^2] = \\frac{1}{n}\\displaystyle \\sum_{i=1}^{n}E(X_i-\\mu)^2 = \\frac{1}{n} \\times n\\sigma^2 = \\sigma^2$\n",
    "<br>\n",
    "$=>$\n",
    "<br>\n",
    "$\\frac{1}{n} \\displaystyle \\sum_{i=1}^{n}(X_i - \\mu)^2$ 是方差$\\sigma^2$的一个无偏估计    \n",
    "\n",
    "这个结果符合直觉，并且在数学上也是显而易见的。  \n",
    "现在，我们考虑随机变量$X$的数学期望$\\mu$是未知的情形。这时，我们会倾向于无脑直接用样本均值$\\bar{X}$替换掉上面式子中的$\\mu$。这样做有什么后果呢？后果就是，  \n",
    "**如果直接使用$\\frac{1}{n} \\displaystyle \\sum_{i=1}^{n}(X_i - \n",
    "\\bar{X})^2$作为估计，那么你会倾向于低估方差！**  \n",
    "这是因为：  \n",
    "$\\frac{1}{n} \\displaystyle \\sum_{i=1}^{n}(X_i - \\bar{X})^2 $  \n",
    "$=\\frac{1}{n} \\displaystyle \\sum_{i=1}^{n}[(X_i - \\mu) + (\\mu - \\bar{X})]^2$   $=\\frac{1}{n} \\displaystyle \\sum_{i=1}^{n}(X_i - \\mu)^2 + \\frac{2}{n} \\displaystyle \\sum_{i=1}^{n}(X_i -\\mu)(\\mu-\\bar{X})+\\frac{1}{n} \\displaystyle \\sum_{i=1}^{n}(\\mu-\\bar{X})^2$  \n",
    "$=\\frac{1}{n} \\displaystyle \\sum_{i=1}^{n}(X_i -\\mu)^2 + 2(\\bar{X}-\\mu)(\\mu-\\bar{X})+(\\mu-\\bar{X})^2\\\\= \\frac{1}{n} \\displaystyle \\sum_{i=1}^{n}(X_i - \\mu)^2 - (\\mu - \\bar{X})^2$\n",
    "\n",
    "换言之，除非正好${\\bar{X} = \\mu}$，否则我们一定有\n",
    "$\\frac{1}{n} \\displaystyle \\sum_{i=1}^{n}(X_i - \\bar{X})^2  < \\frac{1}{n} \\displaystyle \\sum_{i=1}^{n}(X_i - \\mu^2 $\n",
    "\n",
    "这个不等式说明了为什么直接使用$\\frac{1}{n} \\displaystyle \\sum_{i=1}^{n}(X_i - \\bar{X})^2 $会导致结果出现偏差  \n",
    "那么，在不知道随机变量真实数学期望的前提下，如何“正确”的估计方差呢？  \n",
    "##### 样本方差\n",
    "定义：  \n",
    "设$X_1,…,X_n$是随机变量X的$n$个样本，则样本方差定义为\n",
    "$s^2 = \\frac{1}{n-1}\\displaystyle \\sum_{i=1}^{n}(X_i - n\\bar{X})^2$  \n",
    "其中，$\\bar{X}为样本均值$  \n",
    "根据定义可以得出：\n",
    "$s^2 = \\frac{1}{n-1}\\displaystyle \\sum_{i=1}^{n}(X_i - n\\bar{X})^2 \\\\= \\frac{1}{n-1}\\displaystyle \\sum_{i=1}^{n}(X_i^2 -  2n\\bar{X}^2 + \\bar{X}^2) \\\\= \\frac{1}{n-1}(\\displaystyle \\sum_{i=1}^{n}X_i^2 - n\\bar{X}^2)$   \n",
    "无偏性：  \n",
    "$$E(s^2) = \\dfrac{1}{n-1}(n\\sigma^2 + n\\mu^2 - n(\\dfrac{\\sigma^2}{n} + \\mu^2)) = \\sigma^2$$  \n",
    "其中：\n",
    "$\\displaystyle \\sum_{i=1}^{n}E(X_i^2) = D(X) + [E(X)]^2 = (\\sigma^2 + \\mu^2)\\times n$  \n",
    "$E(\\bar{X}^2) = D(\\bar{X}) + [E(\\bar{X})]^2 = D(\\frac{X_1+X_2+…+X_n}{n}) + \\mu^2 = \\frac{1}{n^2}D(X_1+X_2+…+X_n) + \\mu^2 = \\frac{1}{n^2}n\\sigma^2 + \\mu^2 = \\frac{\\sigma^2}{n} + \\mu^2\\$\n",
    "\n"
   ]
  },
  {
   "cell_type": "markdown",
   "metadata": {},
   "source": [
    "# 抽样分布\n",
    "## 定义\n",
    ">当总体X服从一般分布（如指数分布、均匀分布等），要得出统计量的分布是很困难的；当总体X服从正态分布时，统计量$\\bar{X}$、$S^2$是可以计算的，且服从一定的分布。这些分布就是下面要介绍的三大抽样分布——$χ^2$分布，$t$分布，$F$分布。"
   ]
  },
  {
   "cell_type": "markdown",
   "metadata": {},
   "source": [
    "## 分位数/分位点\n",
    "分位数是一个非常重要的概念，一开始也有点难理解。首先要明确一点，分位数分的是**面积**。更准确的说，分位数分的是**某个特定分布的概率密度函数曲线下的面积**。每给定一个分位数，这个概率密度函数曲线就被该点一分为二。"
   ]
  },
  {
   "cell_type": "markdown",
   "metadata": {},
   "source": [
    "### 四分位数（Quartile）\n",
    ">四分位数（Quartile）也称四分位点，是指在统计学中把所有数值由小到大排列并分成四等份，处于三个分割点位置的数值。  \n",
    "例如1， 3， 5， 7， 9， 11，其3个四分位点分别是3，6，9。分别叫做第一四分位数（$Q_1$或者$x_{0.25}$），第二四分位数（$Q_2$或者$x_{0.5}$），第三四分位数（$Q_3$或者$x_{0.75}$）。(认识最多的就是$Q_2$,也就是中位数)\n",
    "\n",
    "对于概率密度函数来说，四分位点就是将概率密度曲线下的面积均分为4部分的点。"
   ]
  },
  {
   "cell_type": "markdown",
   "metadata": {},
   "source": [
    "#### 利用pd.DataFrame().describe()实现统计数据显示(包括分位数)"
   ]
  },
  {
   "cell_type": "code",
   "execution_count": 117,
   "metadata": {
    "ExecuteTime": {
     "end_time": "2019-10-28T12:54:39.857521Z",
     "start_time": "2019-10-28T12:54:39.820347Z"
    }
   },
   "outputs": [
    {
     "data": {
      "text/html": [
       "<div>\n",
       "<style scoped>\n",
       "    .dataframe tbody tr th:only-of-type {\n",
       "        vertical-align: middle;\n",
       "    }\n",
       "\n",
       "    .dataframe tbody tr th {\n",
       "        vertical-align: top;\n",
       "    }\n",
       "\n",
       "    .dataframe thead th {\n",
       "        text-align: right;\n",
       "    }\n",
       "</style>\n",
       "<table border=\"1\" class=\"dataframe\">\n",
       "  <thead>\n",
       "    <tr style=\"text-align: right;\">\n",
       "      <th></th>\n",
       "      <th>0</th>\n",
       "    </tr>\n",
       "  </thead>\n",
       "  <tbody>\n",
       "    <tr>\n",
       "      <th>count</th>\n",
       "      <td>10.000000</td>\n",
       "    </tr>\n",
       "    <tr>\n",
       "      <th>mean</th>\n",
       "      <td>46.700000</td>\n",
       "    </tr>\n",
       "    <tr>\n",
       "      <th>std</th>\n",
       "      <td>23.127905</td>\n",
       "    </tr>\n",
       "    <tr>\n",
       "      <th>min</th>\n",
       "      <td>3.000000</td>\n",
       "    </tr>\n",
       "    <tr>\n",
       "      <th>25%</th>\n",
       "      <td>37.500000</td>\n",
       "    </tr>\n",
       "    <tr>\n",
       "      <th>50%</th>\n",
       "      <td>46.500000</td>\n",
       "    </tr>\n",
       "    <tr>\n",
       "      <th>75%</th>\n",
       "      <td>59.750000</td>\n",
       "    </tr>\n",
       "    <tr>\n",
       "      <th>max</th>\n",
       "      <td>80.000000</td>\n",
       "    </tr>\n",
       "  </tbody>\n",
       "</table>\n",
       "</div>"
      ],
      "text/plain": [
       "               0\n",
       "count  10.000000\n",
       "mean   46.700000\n",
       "std    23.127905\n",
       "min     3.000000\n",
       "25%    37.500000\n",
       "50%    46.500000\n",
       "75%    59.750000\n",
       "max    80.000000"
      ]
     },
     "execution_count": 117,
     "metadata": {},
     "output_type": "execute_result"
    }
   ],
   "source": [
    "import pandas as pd\n",
    "import numpy as np\n",
    "\n",
    "# 获取1到100的10个随机整数\n",
    "sample = np.random.randint(1, 100, 10)\n",
    "# 显示统计数据：平均值，标准差，最小值，分位数\n",
    "pd.DataFrame(sample).describe()"
   ]
  },
  {
   "cell_type": "markdown",
   "metadata": {},
   "source": [
    "### 上$\\alpha$分位数(Upper Percentile)\n",
    ">上$α$分位数是概率密度函数定义域内的一个数值，这个数值将概率密度函数曲线下的面积沿x轴分成了两个部分，其中该点右侧部分概率密度函数曲线与x轴围成的面积等于$α$。  \n",
    "\n",
    "![](images/6_4.png)\n",
    "由于概率密度函数曲线下的面积就是概率，因此上α分位数中的α既是该点右侧区域的面积，也是在这个分布中取到所有大于该点的值的概率。  \n",
    "即：$$p(x≥x_{\\alpha}) = \\alpha$$"
   ]
  },
  {
   "cell_type": "markdown",
   "metadata": {},
   "source": [
    "此时有两个值，一个是$α$，另一个是$x_α$。这两个值中确定其中一个，另一个值也就确定了。因此我们可以通过一个给定的α值，求在某个特定分布中的上$α$分位数，即$x_α$，的值；也可以在某个特定分布中，任意给定一个定义域内的点x，求取到比该点的值更大的值的概率，即该点的$α$值。"
   ]
  },
  {
   "cell_type": "markdown",
   "metadata": {},
   "source": [
    "## $\\chi^2$分布\n",
    "### 定义\n",
    "![](images/6_3.png)"
   ]
  },
  {
   "cell_type": "markdown",
   "metadata": {},
   "source": [
    "### 概率密度(了解)\n",
    "![](images/6_5.png)"
   ]
  },
  {
   "cell_type": "markdown",
   "metadata": {},
   "source": [
    "![](images/6_6.png)"
   ]
  },
  {
   "cell_type": "markdown",
   "metadata": {},
   "source": [
    "由上图可以看出，随着自由度n的增加，卡方分布越近似正态分布"
   ]
  },
  {
   "cell_type": "markdown",
   "metadata": {},
   "source": [
    "### 性质\n",
    "![](images/6_8.png)"
   ]
  },
  {
   "cell_type": "markdown",
   "metadata": {},
   "source": [
    "证明1：  \n",
    "$E(\\chi^2)\\\\=E(\\sum_{i=1}^{n}X_i^2)\\\\=\\sum_{i=1}^{n}E(X_i^2)\\\\=\\sum_{i=1}^{n}[D(X) + [E(x)]^2 ]\\\\=\\sum_{i=1}^{n}D(X)\\\\=n$"
   ]
  },
  {
   "cell_type": "markdown",
   "metadata": {},
   "source": [
    "$D(\\chi^2)\\\\=D(\\sum_{i=1}^{n}X_i^2)\\\\=\\sum_{i=1}^{n}D(X_i^2)\\\\=\\sum_{i=1}^{n}[E(X_i^4) - [E(X_i^2)]^2]\\\\=\\sum_{i=1}^{n}(3-1)\\\\=2n$"
   ]
  },
  {
   "cell_type": "markdown",
   "metadata": {},
   "source": [
    "证明2：  \n",
    "$$Y_1 = \\sum_{i=1}^{n_1}X_i$$  \n",
    "$$Y_2 = \\sum_{i=1}^{n_2}X_i$$  \n",
    "由于：$$X_i \\sim N(0, 1)$$  \n",
    "所以：  \n",
    "$$Y_1 + Y_2 = \\sum_{i=1}^{n_1 + n_2}X_i$$  \n",
    "即：  \n",
    "$$Y_1 + Y_2 \\sim \\chi^2(n_1 + n_2)$$"
   ]
  },
  {
   "cell_type": "markdown",
   "metadata": {},
   "source": [
    "### 上$\\alpha$分位数"
   ]
  },
  {
   "attachments": {},
   "cell_type": "markdown",
   "metadata": {},
   "source": [
    "![](images/69.png)"
   ]
  },
  {
   "cell_type": "markdown",
   "metadata": {},
   "source": [
    "$$P{ [\\chi^2>\\chi^2_{\\alpha}(n)] } = \\int_{\\chi^2_{\\alpha}(n)}^{\\infty}f(y)dy =\\alpha$$"
   ]
  },
  {
   "cell_type": "markdown",
   "metadata": {},
   "source": [
    "### 上$\\alpha$分位数表以及如何查看"
   ]
  },
  {
   "attachments": {},
   "cell_type": "markdown",
   "metadata": {},
   "source": [
    "![](images/70.png)"
   ]
  },
  {
   "cell_type": "markdown",
   "metadata": {},
   "source": [
    "1. 确定自由度(n)\n",
    "2. 确定分位点$\\alpha$\n",
    "3. 读出数据  \n"
   ]
  },
  {
   "cell_type": "markdown",
   "metadata": {},
   "source": [
    "![](images/6_9.png)"
   ]
  },
  {
   "cell_type": "markdown",
   "metadata": {},
   "source": [
    "## t分布"
   ]
  },
  {
   "cell_type": "markdown",
   "metadata": {},
   "source": [
    "### 定义"
   ]
  },
  {
   "cell_type": "markdown",
   "metadata": {},
   "source": [
    "![](images/6_10.png)"
   ]
  },
  {
   "cell_type": "markdown",
   "metadata": {
    "ExecuteTime": {
     "end_time": "2019-10-30T09:00:41.952833Z",
     "start_time": "2019-10-30T09:00:41.905070Z"
    }
   },
   "source": [
    "![](images/6_11.png)"
   ]
  },
  {
   "cell_type": "markdown",
   "metadata": {},
   "source": [
    "### 上$\\alpha$分位数(上侧分位数)"
   ]
  },
  {
   "cell_type": "markdown",
   "metadata": {},
   "source": [
    "![](images/6_12.png)"
   ]
  },
  {
   "cell_type": "markdown",
   "metadata": {},
   "source": [
    "### 性质\n",
    "1. t分布的概率密度函数为偶函数\n",
    "2. 对于任意实数x，当$n->\\infty$,t分布近似于标准正态分布$N(0, 1)$\n",
    "$$\\lim_{n->\\infty}f_T(x) = \\frac{1}{\\sqrt{2\\pi}}e^{-\\frac{1}{2}x^2}$$\n"
   ]
  },
  {
   "cell_type": "markdown",
   "metadata": {},
   "source": [
    "![](images/6_17.png)"
   ]
  },
  {
   "cell_type": "markdown",
   "metadata": {},
   "source": [
    "![](images/6_13.png)"
   ]
  },
  {
   "cell_type": "markdown",
   "metadata": {},
   "source": [
    "![](images/6_14.png)"
   ]
  },
  {
   "cell_type": "markdown",
   "metadata": {},
   "source": [
    "### 例题\n",
    "![](images/6_15.png)"
   ]
  },
  {
   "cell_type": "markdown",
   "metadata": {},
   "source": [
    "\n",
    "![](images/6_16.png)"
   ]
  },
  {
   "cell_type": "markdown",
   "metadata": {},
   "source": [
    "## F分布"
   ]
  },
  {
   "cell_type": "markdown",
   "metadata": {},
   "source": [
    "### 定义\n",
    "\n",
    "![](images/6_18.png)"
   ]
  },
  {
   "cell_type": "markdown",
   "metadata": {},
   "source": [
    "### 上$\\alpha$分位数"
   ]
  },
  {
   "cell_type": "markdown",
   "metadata": {},
   "source": [
    "![](images/6_19.png)"
   ]
  },
  {
   "cell_type": "markdown",
   "metadata": {},
   "source": [
    "### 如何查表\n",
    "![](images/6_20.png)"
   ]
  },
  {
   "cell_type": "markdown",
   "metadata": {},
   "source": [
    "## 小结"
   ]
  },
  {
   "cell_type": "markdown",
   "metadata": {},
   "source": [
    "![](images/6_21.png)"
   ]
  },
  {
   "cell_type": "markdown",
   "metadata": {},
   "source": [
    "## 单个正态总体的抽样分布"
   ]
  },
  {
   "attachments": {},
   "cell_type": "markdown",
   "metadata": {},
   "source": [
    "![](images/611.png)\n",
    "![](images/612.png)\n",
    "![](images/613.png)\n",
    "![](images/614.png)\n",
    "![](images/615.png)\n",
    "![](images/616.png)\n",
    "![](images/617.png)\n",
    "![](images/618.png)\n",
    "![](images/619.png)"
   ]
  },
  {
   "cell_type": "markdown",
   "metadata": {},
   "source": [
    "## 两个正态总体的抽样分布"
   ]
  },
  {
   "attachments": {},
   "cell_type": "markdown",
   "metadata": {},
   "source": [
    "![](images/620.png)\n",
    "![](images/621.png)\n",
    "![](images/622.png)\n",
    "![](images/623.png)\n",
    "![](images/624.png)\n",
    "![](images/625.png)\n",
    "![](images/626.png)\n",
    "![](images/627.png)\n"
   ]
  },
  {
   "cell_type": "markdown",
   "metadata": {},
   "source": [
    "# python实现"
   ]
  },
  {
   "cell_type": "code",
   "execution_count": 3,
   "metadata": {
    "ExecuteTime": {
     "end_time": "2019-10-30T10:43:29.993930Z",
     "start_time": "2019-10-30T10:43:20.506079Z"
    }
   },
   "outputs": [],
   "source": [
    "import numpy as np\n",
    "import pandas as pd\n",
    "import matplotlib.pyplot as plt\n",
    "from scipy import stats"
   ]
  },
  {
   "cell_type": "markdown",
   "metadata": {},
   "source": [
    "## 统计数据"
   ]
  },
  {
   "cell_type": "code",
   "execution_count": 2,
   "metadata": {
    "ExecuteTime": {
     "end_time": "2019-10-30T02:17:29.756949Z",
     "start_time": "2019-10-30T02:17:29.740169Z"
    }
   },
   "outputs": [],
   "source": [
    "def get_stats(dist_sample):\n",
    "    sample = pd.DataFrame(dist_sample, columns=['sample'])\n",
    "    sample['mean'] = np.mean(sample['sample'])\n",
    "    sample['X_i - X_mean'] = sample['sample'] - sample['mean']\n",
    "    sample['(X_i - X_mean)^2'] = np.power(sample['X_i - X_mean'], 2)\n",
    "    sample['S^2'] = np.std(dist_sample)\n",
    "    sample['B_2'] = ((np.alen(dist_sample)-1) / np.alen(dist_sample)) * sample['S^2']\n",
    "    return sample"
   ]
  },
  {
   "cell_type": "code",
   "execution_count": 4,
   "metadata": {
    "ExecuteTime": {
     "end_time": "2019-10-30T02:17:56.651518Z",
     "start_time": "2019-10-30T02:17:56.561907Z"
    }
   },
   "outputs": [
    {
     "name": "stdout",
     "output_type": "stream",
     "text": [
      "     sample      mean  X_i - X_mean  (X_i - X_mean)^2       S^2       B_2\n",
      "0  0.030305  0.589302     -0.558997          0.312478  0.321702  0.289532\n",
      "1  0.932017  0.589302      0.342714          0.117453  0.321702  0.289532\n",
      "2  0.691355  0.589302      0.102053          0.010415  0.321702  0.289532\n",
      "3  0.956281  0.589302      0.366979          0.134673  0.321702  0.289532\n",
      "4  0.571374  0.589302     -0.017928          0.000321  0.321702  0.289532\n"
     ]
    },
    {
     "data": {
      "text/plain": [
       "10"
      ]
     },
     "execution_count": 4,
     "metadata": {},
     "output_type": "execute_result"
    }
   ],
   "source": [
    "uniform_sample = np.random.rand(10)\n",
    "print(get_stats(uniform_sample).head())\n",
    "_ = pd.Series(uniform_sample)\n",
    "np.alen(uniform_sample)"
   ]
  },
  {
   "cell_type": "code",
   "execution_count": 7,
   "metadata": {
    "ExecuteTime": {
     "end_time": "2019-10-30T02:18:16.272289Z",
     "start_time": "2019-10-30T02:18:16.245255Z"
    }
   },
   "outputs": [
    {
     "name": "stdout",
     "output_type": "stream",
     "text": [
      "     sample      mean  X_i - X_mean  (X_i - X_mean)^2       S^2       B_2\n",
      "0 -1.386327 -0.499904     -0.886423          0.785746  0.621319  0.559187\n",
      "1  0.867403 -0.499904      1.367307          1.869528  0.621319  0.559187\n",
      "2 -0.207902 -0.499904      0.292002          0.085265  0.621319  0.559187\n",
      "3 -0.450259 -0.499904      0.049644          0.002465  0.621319  0.559187\n",
      "4 -0.065373 -0.499904      0.434531          0.188817  0.621319  0.559187\n"
     ]
    }
   ],
   "source": [
    "normal_sample = np.random.randn(10)\n",
    "print(get_stats(normal_sample).head())"
   ]
  },
  {
   "cell_type": "markdown",
   "metadata": {},
   "source": [
    "## $\\chi^2$分布"
   ]
  },
  {
   "cell_type": "markdown",
   "metadata": {},
   "source": [
    "![](images/6_22.png)"
   ]
  },
  {
   "cell_type": "markdown",
   "metadata": {},
   "source": [
    "### 绘图"
   ]
  },
  {
   "cell_type": "code",
   "execution_count": 27,
   "metadata": {
    "ExecuteTime": {
     "end_time": "2019-10-30T02:48:03.990610Z",
     "start_time": "2019-10-30T02:48:03.605479Z"
    }
   },
   "outputs": [
    {
     "data": {
      "image/png": "[encoded data removed]",
      "text/plain": [
       "<Figure size 432x288 with 1 Axes>"
      ]
     },
     "metadata": {
      "needs_background": "light"
     },
     "output_type": "display_data"
    }
   ],
   "source": [
    "def chi2_distribution(df_list=[1,2,3,4]):\n",
    "    \"\"\"\n",
    "    实现不同自由度的卡方分布\n",
    "    : df :degree freedom 自由度，也就是卡方分布的n\n",
    "    \"\"\"\n",
    "    # 参见chi^2函数\n",
    "    chi2_dis_1 = stats.chi2(df_list[0])\n",
    "    chi2_dis_2 = stats.chi2(df_list[1])\n",
    "    chi2_dis_3 = stats.chi2(df_list[2])\n",
    "    chi2_dis_4 = stats.chi2(df_list[3])\n",
    "    \n",
    "    # 设置x轴\n",
    "    x_1 = np.linspace(chi2_dis_1.ppf(0.65),\n",
    "                      chi2_dis_1.ppf(0.999), 100)\n",
    "    x_2 = np.linspace(chi2_dis_2.ppf(0.0001),\n",
    "                      chi2_dis_2.ppf(0.9999), 100)\n",
    "    x_3 = np.linspace(chi2_dis_3.ppf(0.001),\n",
    "                      chi2_dis_3.ppf(0.999), 100)\n",
    "    x_4 = np.linspace(chi2_dis_4.ppf(0.001),\n",
    "                      chi2_dis_4.ppf(0.999), 100)\n",
    "    \n",
    "    # 计算概率密度函数\n",
    "    pdf_1 = chi2_dis_1.pdf(x_1)\n",
    "    pdf_2 = chi2_dis_2.pdf(x_2)\n",
    "    pdf_3 = chi2_dis_3.pdf(x_3)\n",
    "    pdf_4 = chi2_dis_4.pdf(x_4)\n",
    "    \n",
    "    # 画图\n",
    "    fig, ax = plt.subplots(1,1)\n",
    "    ax.plot(x_1, pdf_1, 'g-', lw=2, label='df={}'.format(df_list[0]))\n",
    "    ax.plot(x_2, pdf_2, 'r-', lw=2, label='df={}'.format(df_list[1]))    \n",
    "    ax.plot(x_3, pdf_3, 'b-', lw=2, label='df={}'.format(df_list[2]))    \n",
    "    ax.plot(x_4, pdf_4, 'y-', lw=2, label='df={}'.format(df_list[3]))    \n",
    "    \n",
    "    plt.ylabel('Probablity')\n",
    "    plt.title(r'PDF of $\\chi^2 Dist.$')\n",
    "    ax.legend(loc='best', frameon=False)\n",
    "    plt.show()\n",
    "\n",
    "chi2_distribution([1,4,10,20])"
   ]
  },
  {
   "cell_type": "markdown",
   "metadata": {},
   "source": [
    "### 分位数计算\n",
    "例如计算:  \n",
    "\n",
    "$$P{ [\\chi^2(10)>20.483] } = ?$$\n",
    "即，$$\\chi^2_\\alpha(10)=20.483$$"
   ]
  },
  {
   "cell_type": "code",
   "execution_count": 11,
   "metadata": {
    "ExecuteTime": {
     "end_time": "2019-10-30T10:56:33.436146Z",
     "start_time": "2019-10-30T10:56:33.409457Z"
    }
   },
   "outputs": [
    {
     "name": "stdout",
     "output_type": "stream",
     "text": [
      "0.026155741012841877\n",
      "0.025001449464351087\n"
     ]
    }
   ],
   "source": [
    "# 计算概率密度\n",
    "def calculate_cdf(df, upper_percent):\n",
    "    \"\"\"\n",
    "    准确度比较低\n",
    "    : df :自由度\n",
    "    : upper_percentile: 上α分位数值\n",
    "    \"\"\"\n",
    "    return stats.chi2.cdf(df, upper_percent)\n",
    "\n",
    "# 计算自由度为10， 分位点α为20.483的概率\n",
    "print(calculate_cdf(10, 20.483))\n",
    "\n",
    "def calculate_cdf_2(df, upper_percent):\n",
    "    \"\"\"\n",
    "    准确度高\n",
    "    : sf:survival function\n",
    "    \"\"\"\n",
    "    return stats.chi2.sf(upper_percent, df)\n",
    "print(calculate_cdf_2(10, 20.483))"
   ]
  },
  {
   "cell_type": "markdown",
   "metadata": {},
   "source": [
    "例如计算：\n",
    "$$P[\\chi^2(10)>\\chi^2_{\\alpha}(10)] = 0.05$$\n",
    "$$求\\chi^2_{\\alpha(10)} = ?$$"
   ]
  },
  {
   "cell_type": "code",
   "execution_count": 14,
   "metadata": {
    "ExecuteTime": {
     "end_time": "2019-10-30T11:00:49.299035Z",
     "start_time": "2019-10-30T11:00:49.286774Z"
    }
   },
   "outputs": [
    {
     "name": "stdout",
     "output_type": "stream",
     "text": [
      "18.30703805327515\n"
     ]
    }
   ],
   "source": [
    "def calculate_upper_percentile(df, probablity):\n",
    "    \"\"\"\n",
    "    ：df：自由度\n",
    "    ：probability：概率\n",
    "    \"\"\"\n",
    "    return stats.chi2.isf(probablity, df)\n",
    "\n",
    "print(calculate_upper_percentile(10, 0.05))"
   ]
  },
  {
   "cell_type": "markdown",
   "metadata": {},
   "source": [
    "## t分布"
   ]
  },
  {
   "cell_type": "markdown",
   "metadata": {},
   "source": [
    "![](images/6_23.png)"
   ]
  },
  {
   "cell_type": "markdown",
   "metadata": {},
   "source": [
    "### 绘图"
   ]
  },
  {
   "cell_type": "code",
   "execution_count": 31,
   "metadata": {
    "ExecuteTime": {
     "end_time": "2019-10-30T11:31:17.660112Z",
     "start_time": "2019-10-30T11:31:17.174514Z"
    }
   },
   "outputs": [
    {
     "data": {
      "image/png": "[encoded data removed]",
      "text/plain": [
       "<Figure size 432x288 with 1 Axes>"
      ]
     },
     "metadata": {
      "needs_background": "light"
     },
     "output_type": "display_data"
    }
   ],
   "source": [
    "def t_distribution(df_list=[1,2,3,4]):\n",
    "    \"\"\"\n",
    "    实现不同自由度的卡方分布\n",
    "    : df :degree freedom 自由度，也就是卡方分布的n\n",
    "    \"\"\"\n",
    "    # 创建t分布函数\n",
    "    t_dis_1 = stats.t(df_list[0])\n",
    "    t_dis_2 = stats.t(df_list[1])\n",
    "    t_dis_3 = stats.t(df_list[2])\n",
    "#     t_dis_4 = stats.t(df_list[3])\n",
    "    \n",
    "    # 创建标准正态分布函数\n",
    "    norm_dist = stats.norm()\n",
    "    \n",
    "    # 设置x轴\n",
    "#     x_1 = np.linspace(t_dis_1.ppf(0.004),\n",
    "#                       t_dis_1.ppf(0.999), 1000)\n",
    "#     x_2 = np.linspace(t_dis_2.ppf(0.001),\n",
    "#                       t_dis_2.ppf(0.999), 1000)\n",
    "#     x_3 = np.linspace(t_dis_3.ppf(0.001),\n",
    "#                       t_dis_3.ppf(0.999), 1000)\n",
    "#     x_4 = np.linspace(t_dis_4.ppf(0.001),\n",
    "#                       t_dis_4.ppf(0.999), 1000)\n",
    "    x = np.linspace(-4, 4, 100)\n",
    "    \n",
    "    # 计算概率密度函数\n",
    "    pdf_1 = t_dis_1.pdf(x)\n",
    "    pdf_2 = t_dis_2.pdf(x)\n",
    "    pdf_3 = t_dis_3.pdf(x)\n",
    "#     pdf_4 = t_dis_4.pdf(x)\n",
    "    pdf_5 = norm_dist.pdf(x)\n",
    "    \n",
    "    # 画图\n",
    "    fig, ax = plt.subplots(1,1)\n",
    "    ax.plot(x, pdf_1, 'g-', lw=2, label=r'$X \\sim t({})$'.format(df_list[0]))\n",
    "    ax.plot(x, pdf_2, 'r-', lw=2, label=r'$X \\sim t({})$'.format(df_list[1]))    \n",
    "    ax.plot(x, pdf_3, 'b-', lw=2, label=r'$X \\sim t({})$'.format(df_list[2]))    \n",
    "#     ax.plot(x, pdf_4, 'y-', lw=2, label=r'X \\sim \\chi^2({})'.format(df_list[3]))    \n",
    "    ax.plot(x, pdf_5, 'k-', lw=2, label=r'$X\\sim N(0,1)$')    \n",
    "    \n",
    "    plt.ylabel('Probablity')\n",
    "    plt.title(r'PDF of t Dist.')\n",
    "    ax.legend(loc='best', frameon=False)\n",
    "    plt.show()\n",
    "\n",
    "t_distribution([1,5,10])"
   ]
  },
  {
   "cell_type": "markdown",
   "metadata": {},
   "source": [
    "### 分位数计算\n",
    "例如计算:  \n",
    "\n",
    "$$P{ [t(10)>1.8125] } = ?$$\n",
    "即，$$t_\\alpha(10)=1.8125$$"
   ]
  },
  {
   "cell_type": "code",
   "execution_count": 29,
   "metadata": {
    "ExecuteTime": {
     "end_time": "2019-10-30T11:22:55.653177Z",
     "start_time": "2019-10-30T11:22:55.638059Z"
    }
   },
   "outputs": [
    {
     "name": "stdout",
     "output_type": "stream",
     "text": [
      "0.04999682852392339\n"
     ]
    }
   ],
   "source": [
    "def calculate_cdf_2(df, upper_percent):\n",
    "    \"\"\"\n",
    "    计算t分布的上侧分位数\n",
    "    准确度高\n",
    "    : sf:survival function\n",
    "    \"\"\"\n",
    "    return stats.t.sf(upper_percent, df)\n",
    "print(calculate_cdf_2(10, 1.8125))"
   ]
  },
  {
   "cell_type": "markdown",
   "metadata": {},
   "source": [
    "例如计算：\n",
    "$$P[t(10)>t_{\\alpha}(10)] = 0.05$$\n",
    "$$求t_{\\alpha(10)} = ?$$"
   ]
  },
  {
   "cell_type": "code",
   "execution_count": 30,
   "metadata": {
    "ExecuteTime": {
     "end_time": "2019-10-30T11:23:57.351031Z",
     "start_time": "2019-10-30T11:23:57.336789Z"
    }
   },
   "outputs": [
    {
     "name": "stdout",
     "output_type": "stream",
     "text": [
      "1.8124611228107341\n"
     ]
    }
   ],
   "source": [
    "def calculate_upper_percentile(df, probabilty):\n",
    "    \"\"\"\n",
    "    计算t分布上侧分位数对应的值\n",
    "    : df:自由度\n",
    "    : probability:概率\n",
    "    \"\"\"\n",
    "    return stats.t.isf(probabilty, df)\n",
    "print(calculate_upper_percentile(10, 0.05))"
   ]
  },
  {
   "cell_type": "markdown",
   "metadata": {},
   "source": [
    "### F分布"
   ]
  },
  {
   "cell_type": "markdown",
   "metadata": {},
   "source": [
    "![](images/6_24.png)"
   ]
  },
  {
   "cell_type": "code",
   "execution_count": 36,
   "metadata": {
    "ExecuteTime": {
     "end_time": "2019-10-30T11:34:32.995257Z",
     "start_time": "2019-10-30T11:34:32.587492Z"
    }
   },
   "outputs": [
    {
     "data": {
      "image/png": "[encoded data removed]",
      "text/plain": [
       "<Figure size 432x288 with 1 Axes>"
      ]
     },
     "metadata": {
      "needs_background": "light"
     },
     "output_type": "display_data"
    }
   ],
   "source": [
    "def t_distribution(df_list=[1,2,3,4], df_list_2=[1,2,3,4]):\n",
    "    \"\"\"\n",
    "    实现不同自由度的F分布\n",
    "    : df_list :degree freedom 自由度，也就是F分布的n1\n",
    "    : df_list_2 :degree freedom 自由度，也就是F分布的n_2\n",
    "    \"\"\"\n",
    "    # 创建t分布函数\n",
    "    f_dis_1 = stats.f(df_list[0], df_list_2[0])\n",
    "    f_dis_2 = stats.f(df_list[1], df_list_2[1])\n",
    "    f_dis_3 = stats.f(df_list[2], df_list_2[2])\n",
    "#     t_dis_4 = stats.t(df_list[3])\n",
    "    \n",
    "    # 设置x轴\n",
    "#     x_1 = np.linspace(t_dis_1.ppf(0.004),\n",
    "#                       t_dis_1.ppf(0.999), 1000)\n",
    "#     x_2 = np.linspace(t_dis_2.ppf(0.001),\n",
    "#                       t_dis_2.ppf(0.999), 1000)\n",
    "#     x_3 = np.linspace(t_dis_3.ppf(0.001),\n",
    "#                       t_dis_3.ppf(0.999), 1000)\n",
    "#     x_4 = np.linspace(t_dis_4.ppf(0.001),\n",
    "#                       t_dis_4.ppf(0.999), 1000)\n",
    "    x = np.linspace(0.01, 10, 100)\n",
    "    \n",
    "    # 计算概率密度函数\n",
    "    pdf_1 = f_dis_1.pdf(x)\n",
    "    pdf_2 = f_dis_2.pdf(x)\n",
    "    pdf_3 = f_dis_3.pdf(x)\n",
    "#     pdf_4 = t_dis_4.pdf(x)\n",
    "    \n",
    "    # 画图\n",
    "    fig, ax = plt.subplots(1,1)\n",
    "    ax.plot(x, pdf_1, 'g-', lw=2, label=r'$X \\sim F({}, {})$'.format(df_list[0], df_list_2[0]))\n",
    "    ax.plot(x, pdf_2, 'r-', lw=2, label=r'$X \\sim F({}, {})$'.format(df_list[1], df_list_2[1]))    \n",
    "    ax.plot(x, pdf_3, 'b-', lw=2, label=r'$X \\sim F({}, {})$'.format(df_list[2], df_list_2[2]))    \n",
    "#     ax.plot(x, pdf_4, 'y-', lw=2, label=r'X \\sim \\chi^2({})'.format(df_list[3]))    \n",
    "    \n",
    "    plt.ylabel('Probablity')\n",
    "    plt.title(r'PDF of F Dist.')\n",
    "    ax.legend(loc='best', frameon=False)\n",
    "    plt.show()\n",
    "\n",
    "t_distribution([1,30,100], [30,5,100])"
   ]
  }
 ],
 "metadata": {
  "kernelspec": {
   "display_name": "Python 3",
   "language": "python",
   "name": "python3"
  },
  "language_info": {
   "codemirror_mode": {
    "name": "ipython",
    "version": 3
   },
   "file_extension": ".py",
   "mimetype": "text/x-python",
   "name": "python",
   "nbconvert_exporter": "python",
   "pygments_lexer": "ipython3",
   "version": "3.7.3"
  },
  "toc": {
   "base_numbering": 1,
   "nav_menu": {},
   "number_sections": true,
   "sideBar": true,
   "skip_h1_title": false,
   "title_cell": "Table of Contents",
   "title_sidebar": "Contents",
   "toc_cell": false,
   "toc_position": {
    "height": "calc(100% - 180px)",
    "left": "10px",
    "top": "150px",
    "width": "248.317px"
   },
   "toc_section_display": true,
   "toc_window_display": false
  },
  "varInspector": {
   "cols": {
    "lenName": 16,
    "lenType": 16,
    "lenVar": 40
   },
   "kernels_config": {
    "python": {
     "delete_cmd_postfix": "",
     "delete_cmd_prefix": "del ",
     "library": "var_list.py",
     "varRefreshCmd": "print(var_dic_list())"
    },
    "r": {
     "delete_cmd_postfix": ") ",
     "delete_cmd_prefix": "rm(",
     "library": "var_list.r",
     "varRefreshCmd": "cat(var_dic_list()) "
    }
   },
   "types_to_exclude": [
    "module",
    "function",
    "builtin_function_or_method",
    "instance",
    "_Feature"
   ],
   "window_display": false
  }
 },
 "nbformat": 4,
 "nbformat_minor": 2
}
