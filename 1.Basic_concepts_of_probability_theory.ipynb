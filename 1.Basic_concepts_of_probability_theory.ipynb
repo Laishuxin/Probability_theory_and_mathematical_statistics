{
 "cells": [
  {
   "cell_type": "markdown",
   "metadata": {},
   "source": [
    "# 概率论与数理统计\n",
    "+ 概率论是数学的一个分支，研究如何定量描述随机变量及其规律\n",
    "+  数理统计则是以数据为唯一研究对象，包括数据的收集、整理、分析和建模，从而对随机现象的某些规律进行预测或决策。"
   ]
  },
  {
   "cell_type": "markdown",
   "metadata": {},
   "source": [
    "## 概率论的学习\n",
    "1. 学思想：如何看待和处理随机事件的规律性\n",
    "2. 学方法：建立统计模型\n",
    "3. 学应用：各种模型的应用\n",
    "4. 学工具：利用excel、python等工具，对数据进行处理和分析"
   ]
  },
  {
   "cell_type": "markdown",
   "metadata": {},
   "source": [
    "# 随机实验与样本空间\n",
    "## 随机实验\n",
    "### 定义\n",
    "对随机现象的观察、记录、实验统称为随机试验。\n",
    "### 特性\n",
    "+ 在相同的条件下，可以重复实现\n",
    "+ 事先知道所有可能出现的结果\n",
    "+ 试验前并不知道哪个结果会发生\n",
    "### 随机试验的分类\n",
    "随机试验有很多种，例如常出现的掷骰子，摸球，射击，抛硬币等。所有的随机试验的结果可以分为两类来表示：\n",
    "+ 数量化表示：射击命中的次数，商场每个小时的客流量，每天经过某个收费站的车辆等，这些结果本身就是数字；\n",
    "+ 非数量化表示：抛硬币的结果（正面/反面），化验的结果（阳性/阴性）等，这些结果是定性的，非数量化的。但是可以用示性函数来表示，例如可以规定正面（阳性）为1，反面（阴性）为0，这样就实现了非数量化结果的数量化表示。\n",
    "\n",
    " "
   ]
  },
  {
   "cell_type": "markdown",
   "metadata": {},
   "source": [
    "# 样本空间\n",
    "+ 随机试验的所有可能结果构成的集合。一般即为S（大写的S）。\n",
    "+ S中的元素e称为样本点（也可以叫做基本事件）；\n",
    "+ 事件是样本空间的子集，同样是一个集合"
   ]
  },
  {
   "cell_type": "markdown",
   "metadata": {},
   "source": [
    "# 事件的相互关系及运算"
   ]
  },
  {
   "cell_type": "markdown",
   "metadata": {},
   "source": [
    "## 事件的关系\n"
   ]
  },
  {
   "attachments": {},
   "cell_type": "markdown",
   "metadata": {},
   "source": [
    "![](images/1_1.png)"
   ]
  },
  {
   "attachments": {},
   "cell_type": "markdown",
   "metadata": {},
   "source": [
    "![](images/1_2.png)\n"
   ]
  },
  {
   "cell_type": "markdown",
   "metadata": {},
   "source": [
    "# 频率与概率\n",
    "## 频率：\n",
    "### 定义:\n",
    "$$f_n(A) = \\frac{n_A}{n}$$\n",
    "其中：$n_A$是A 发生的次数(频数)  \n",
    "n是总的试验次数  \n",
    "称$f_n(A)$是A在这n次试验中发生的频率\n",
    "### 频率的性质：\n",
    "1. $0≤f_n(A)≤1$\n",
    "2. $f_n(S)=1$\n",
    "3. 若$A_1,A_2,\\cdots,A_K$两两不相容，则\n",
    "$$f_n(\\bigcup_{i=1}^{k}A_I) = \\sum_{i=1}^{k}f_n(A_i)$$\n",
    "\n",
    "4. $f_n(A)$随n的增大渐趋稳定，稳定值为p(概率)  \n",
    "(相关证明参见大数定律)\n",
    " "
   ]
  },
  {
   "cell_type": "markdown",
   "metadata": {},
   "source": [
    "## 概率\n",
    "### 定义：\n",
    "+ 当试验的次数增加时，随机事件A发生的频率的稳定值$p$称为概率.记为$P(A)=p$"
   ]
  },
  {
   "attachments": {},
   "cell_type": "markdown",
   "metadata": {},
   "source": [
    "+ (概率的公理化定义:简单地说就是，概率不小于0，所有事件的概率和为1)\n",
    "\n",
    "![](images/1_3.png)\n"
   ]
  },
  {
   "cell_type": "markdown",
   "metadata": {},
   "source": [
    "### 性质\n",
    "1. $P(\\varnothing) = 0$\n",
    "2. $P(A) = 1 - P(\\bar{a})$\n",
    "3. (有限可加性)\n",
    "$$A_1,A_2,\\cdots,A_n, A_iA_j = \\varnothing, i≠j,\\\\\n",
    "\\Rightarrow P(\\bigcup_{i=1}^{n}A_i) = \\sum_{i=1}^{n}P(A_i)$$\n",
    "4. 若$A \\subset B$, 则有$P(B-A) = P(B) - P(A)$\n",
    "5. 概率的加法公式：\n",
    "$$P(A \\cup B) = P(A) + P(B) - P(AB)$$  \n",
    "    + 推广1：\n",
    "$$P(A \\cup B \\cup C) = P(A) + P(B) + P(C) - P(AB) - P(AC) - P(BC) + P(ABC)$$\n",
    "    + 推广2：(偶减奇加)\n",
    "$$P(\\bigcup_{i=1}^{n} A_i) = \\sum_{i=1}^{n}P(A_i) - \\sum_{1≤i＜j≤n} P(A_iA_j)\n",
    "+ \\sum_{1≤i＜j＜k≤n}P(A_iA_jA_k) + \\cdots + (-1)^{n-1}P(A_1A_2 \\cdots A_n)$$"
   ]
  },
  {
   "attachments": {},
   "cell_type": "markdown",
   "metadata": {},
   "source": [
    "#### 相关性质的证明\n",
    "![](images/1_4.png)\n"
   ]
  },
  {
   "attachments": {},
   "cell_type": "markdown",
   "metadata": {},
   "source": [
    "\n",
    "![](images/1_5.png)\n"
   ]
  },
  {
   "attachments": {},
   "cell_type": "markdown",
   "metadata": {},
   "source": [
    "![](images/1_6.png)\n"
   ]
  },
  {
   "cell_type": "markdown",
   "metadata": {},
   "source": [
    "# 等可能概率(古典概型)\n"
   ]
  },
  {
   "cell_type": "markdown",
   "metadata": {
    "ExecuteTime": {
     "end_time": "2019-10-23T00:35:09.085268Z",
     "start_time": "2019-10-23T00:35:09.073132Z"
    }
   },
   "source": [
    "## 定义：若试验满足\n",
    "+ 样本空间S中样本点有限(有限性)\n",
    "+ 出现每一个样本点的概率相等(等可能性)称这种试验为等可能概型(或古典概型)"
   ]
  },
  {
   "attachments": {},
   "cell_type": "markdown",
   "metadata": {},
   "source": [
    "![](images/1_7.png)\n"
   ]
  },
  {
   "attachments": {},
   "cell_type": "markdown",
   "metadata": {},
   "source": [
    "## 例题\n",
    "![](images/1_8.png)\n"
   ]
  },
  {
   "attachments": {},
   "cell_type": "markdown",
   "metadata": {},
   "source": [
    "\n",
    "![](images/1_9.png)\n"
   ]
  },
  {
   "cell_type": "markdown",
   "metadata": {},
   "source": [
    "自己的理解：\n",
    "+ 若k=1，即第一次摸到白球，则\n",
    "$$P(A_k) = P(A_1) = \\frac{a}{a+b}$$\n",
    "+ 若k=2，即第2次摸到白球，则  \n",
    "$P(A_k)$  \n",
    "$= P(A_2)$\n",
    "$= P(第一次摸到白球，第二次也摸到白球)+ P(第一次摸到黄球，第二次摸到白球)$\n",
    "$= \\frac{a}{a+b}×\\frac{a-1}{a+b-1} + \\frac{b}{a+b}×\\frac{a}{a+b-1}$  \n",
    "$= \\frac{a(a-1) + ab}{a(a+b-1)}$  \n",
    "$= \\frac{a}{a+b}$\n",
    "\n",
    "同样的道理求$P(A_k)就可以推出结论$"
   ]
  },
  {
   "attachments": {},
   "cell_type": "markdown",
   "metadata": {},
   "source": [
    "# 条件概率\n",
    "## 定义：\n",
    "$$P(B|A) = \\frac{P(AB)}{P(A)}, P(A)≠0$$\n",
    "(定义的理解：$P(A|B)$表示在事件B发生的条件下，事件A发生的概率，相当于A在B中所占的比例。此时，样本空间从原来的完整样本空间S缩小到了B)  \n",
    "由于有了条件的约束（事件B），使得原来的样本空间减小了。\n",
    "\n",
    "![](images/1_10.png)\n"
   ]
  },
  {
   "cell_type": "markdown",
   "metadata": {},
   "source": [
    "## 性质：\n",
    "1. 非负性：$P(B|A)≥0$\n",
    "2. 规范性：$P(S|A)=1$\n",
    "3. 可列可加性：$B_1,B2,\\cdots ,B_iB_j = \\varnothing, i≠j$，($B_i与B_j$两两不相容) 则   \n",
    "$$P(\\bigcup_ {i=1}^{\\infty}B_i|A) = \\sum_{i=1}^{\\infty} P(B_i|A)$$"
   ]
  },
  {
   "attachments": {},
   "cell_type": "markdown",
   "metadata": {},
   "source": [
    "\n",
    "![](images/1_11.png)\n"
   ]
  },
  {
   "attachments": {},
   "cell_type": "markdown",
   "metadata": {},
   "source": [
    "### 例题\n",
    "\n",
    "![](images/1_12.png)\n"
   ]
  },
  {
   "cell_type": "markdown",
   "metadata": {},
   "source": [
    "## 乘法公式\n",
    "$P(AB) = P(A)P(B|A) = P(B)P(A|B)$  \n",
    "$P(ABC) = P(A)P(B|A)P(C|AB)$\n",
    "$P(A_1A_2 \\cdots A_n) = P(A_!)P(A_2|A_1)P(A_3|A_1A_2) \\cdots P(A_n|A_1A_2 \\cdots A_{n-1})$"
   ]
  },
  {
   "cell_type": "markdown",
   "metadata": {},
   "source": [
    "### 例题"
   ]
  },
  {
   "attachments": {},
   "cell_type": "markdown",
   "metadata": {},
   "source": [
    "\n",
    "![](images/1_13.png)\n"
   ]
  },
  {
   "cell_type": "markdown",
   "metadata": {},
   "source": [
    "## 全概率公式与贝叶斯定理\n",
    "(非常重要)\n"
   ]
  },
  {
   "cell_type": "markdown",
   "metadata": {},
   "source": [
    "### 全概率公式(formula of total probability)\n",
    "\n",
    "#### 样本空间的划分\n",
    "设B1，B2，....为有限或无限个事件，它们两两互斥且在每次试验中至少发生一个，即：\n",
    "    + 不漏：B1∪B2∪.... = S（必然事件）.\n",
    "    + 不重：Bi ∩ Bj = ∅（不可能事件）i≠j ,\n",
    "    \n",
    "#### 定理：\n"
   ]
  },
  {
   "attachments": {},
   "cell_type": "markdown",
   "metadata": {},
   "source": [
    "设$B_1,B_2,\\cdots,B_n$为S的一个划分，且$P(B_i)>0$,则有**全概率公式**：\n",
    "$$P(A) = \\sum_{j=1}^{n}P(B_j)\\cdot P(A|B_j)$$\n",
    "\n",
    "#### 证明\n",
    "\n",
    "![](images/1_14.png)\n"
   ]
  },
  {
   "attachments": {},
   "cell_type": "markdown",
   "metadata": {},
   "source": [
    "也可以将全概率公式分成两部分来看：\n",
    "1. 先把样本空间分为n个子集($B_1 \\sim B_n$)\n",
    "2. 每个子集的发生对A会产生不同程度的影响\n",
    "3. 将这些影响叠加\n",
    "\n",
    "![](images/1_15.png)\n"
   ]
  },
  {
   "cell_type": "markdown",
   "metadata": {},
   "source": [
    "#### 意义\n",
    "全概率公式的意义在于，当直接计算$P(A)$较为困难，而$P(Bi)，P(A|B_i)  (i=1,2,...)$的计算较为简单时，可以利用全概率公式计算$P(A)$。思想就是，将事件A分解成若干个小事件，通过求每个小事件的概率，然后相加从而求得事件A的概率。  \n",
    "而将事件A进行分割的时候，不是直接对A进行分割，而是先找到样本空间S的一个划分$B_1,B_2,...B_n$,这样事件A就被事件$AB_1,AB_2,...AB_n$分解成了n部分，即$A = AB_1 + AB_2 + ... + AB_n$, 每一$B_i$发生都可能导致A发生相应的概率是$P(A|B_i)$，由加法公式得  \n",
    "$P(A)$  \n",
    "$= P(AB_1) + P(AB_2) + \\cdots + P(AB_n)$  \n",
    "$=P(B_1)P(A|B_1) + P(B_2)P(A|B_2) + \\cdots + P(B_n)P(A|B_n)$"
   ]
  },
  {
   "cell_type": "markdown",
   "metadata": {},
   "source": [
    "### 贝叶斯公式(Bayes formula)"
   ]
  },
  {
   "attachments": {},
   "cell_type": "markdown",
   "metadata": {},
   "source": [
    "#### 定理：\n",
    "与全概率公式解决的问题相反，贝叶斯公式是建立在条件概率的基础上寻找事件发生的原因（即大事件A已经发生的条件下，分割中的小事件Bi在A发生的条件下的概率）\n",
    "\n",
    "![](images/1_16.png)\n",
    "\n"
   ]
  },
  {
   "attachments": {},
   "cell_type": "markdown",
   "metadata": {},
   "source": [
    "#### 例题\n",
    "\n",
    "![](images/1_17.png)\n"
   ]
  },
  {
   "attachments": {},
   "cell_type": "markdown",
   "metadata": {},
   "source": [
    "\n",
    "![](images/1_18.png)\n"
   ]
  },
  {
   "attachments": {},
   "cell_type": "markdown",
   "metadata": {},
   "source": [
    "\n",
    "![](images/1_19.png)\n",
    "\n"
   ]
  },
  {
   "attachments": {},
   "cell_type": "markdown",
   "metadata": {},
   "source": [
    "\n",
    "![](images/1_20.png)\n"
   ]
  },
  {
   "cell_type": "markdown",
   "metadata": {},
   "source": [
    "------\n",
    "贝叶斯公式的拓展，看不懂可以略过"
   ]
  },
  {
   "cell_type": "markdown",
   "metadata": {},
   "source": [
    "#### 贝叶斯推断的含义\n",
    "1. 由条件概率的计算公式：\n",
    "$$P(A|B) = \\frac{P(AB)}{P(B)}, P(A)≠0$$  \n",
    "推出：  \n",
    "$$P(A|B) = \\frac{P(B|A)P(A)}{P(B)}$$  \n",
    "对其进行变形：  \n",
    "$$P(A|B) = P(A)\\frac{P(B|A)}{P(B)}$$  \n",
    "2. $P(A)$称为**先验概率(Prior probability)**，即在B事件发生之前，我们对A事件概率的一个判断。  \n",
    "3. $P(A|B)$称为**后验概率(Posterior probability)**，即在B事件发生之后，我们对A事件概率的重新评估。  \n",
    "4. $\\frac{P(B|A)}{P(B)}$称为**可能函数**，这是一个调整因子，使得估计概率更接近真实概率  \n",
    "5. 所以，条件概率可以理解成:  \n",
    "$$后验概率  = 先验概率 × 调整因子$$\n",
    "\n",
    "6. **贝叶斯推断的含义：**我们先预估一个**先验概率**， 然后加入其他各种因素，对先前的结果进行**矫正**。"
   ]
  },
  {
   "cell_type": "markdown",
   "metadata": {},
   "source": [
    "#### 通俗理解\n",
    "如果把Bayes公式换成如下：(即在观察到某种现象发生后，我们想探求其规律)\n",
    "$$P(规律|现象) = \\frac{P(现象|规律)P(规律)}{P(现象)}$$\n",
    "\n",
    "对于一个场景，可能有几种不同的规律来解释，根据对场景的一些现象的观测，怎么知道各种可能的规律在背后发生作用的概率，这就是想回答的问题$P(规律|现象)$。直接去计算有难度，但是我们知道在某个规律下，不同现象发生的概率$P(现象|规律)$，和每个现象发生的概率$P(规律)$，和不同现象发生的概率$P(现象)$。贝叶斯就是告诉怎么用这些知道的知识去计算现象后面的规律发生的概率。所以，最重要的是分清（理解）场景或是问题中的规律和现象！\n"
   ]
  },
  {
   "cell_type": "markdown",
   "metadata": {},
   "source": [
    "看下面的例子：  \n",
    "第一个例子。两个一模一样的碗，一号碗有30颗水果糖和10颗巧克力糖，二号碗有水果糖和巧克力糖各20颗。现在随机选择一个碗，从中摸出一颗糖，发现是水果糖。请问这颗水果糖来自一号碗的概率有多大？  \n",
    "分清和定义现象和规律  \n",
    "这里有两个规律  \n",
    "+ 规律一：糖从一号碗来\n",
    "+ 规律二：糖从二号碗来  \n",
    "我们知道两个碗一模一样，所以两个规律发生的概率一样(即$P(糖从一号碗来)=P(糖从一号碗来)=0.5$)  \n",
    "两种现象：\n",
    "+ 取到水果糖\n",
    "+ 取到巧克力糖   \n",
    "\n",
    "我们也能得到：  \n",
    "$P(取到水果糖|糖从一号碗来)=\\frac{30}{30+10}=0.75$  \n",
    "$P(取到巧克力|糖从一号碗来) = \\frac{10}{30+10}=0.25$  \n",
    "$P(取到水果糖|糖从二号碗来) = \\frac{20}{20+20}=0.5$\n",
    "$P(取到巧克力|糖从二号碗来) = \\frac{20}{20+20}=0.5$  \n",
    "此外：  \n",
    "$P(取到水果糖)$\n",
    "$=P(取到水果糖|糖从一号碗来)P(糖从一号碗来)+P(取到水果糖|糖从二号碗来)P(糖从二号碗来)$  \n",
    "$=0.75×05.+0.5×0.5$  \n",
    "$=0.625$\n",
    "\n",
    "现在，我们知道**取到水果糖**，要求推断规律(即,糖从一号碗来的概率是多大$P(糖从一号碗来|取到水果糖)$)  \n",
    "根据Bayes公式，可以推断：  \n",
    "$$P(规律|现象) = \\frac{P(现象|规律)P(规律)}{P(现象)}$$\n",
    "$P(糖从一号碗来|取到水果糖)$\n",
    "$=\\frac{P(取到水果糖|糖从一号碗来)P(糖从一号碗来)}{P(取到水果糖)}$  \n",
    "$=\\frac{0.75×0.5}{0.625}$  \n",
    "$=0.6$\n",
    "\n",
    "\n",
    "[来源：简书作者:CodingFish](https://www.jianshu.com/p/d9757860c4f8)\n"
   ]
  },
  {
   "cell_type": "markdown",
   "metadata": {},
   "source": [
    "#### 贝叶斯定理的应用\n",
    "1. 在信息有限的前提下，帮助我们预测概率 \n",
    "2. 理解现实生活中的非理性行为(参见《思考，快与慢》第14章)\n",
    "3. 垃圾邮件分类(机器学习)"
   ]
  },
  {
   "cell_type": "markdown",
   "metadata": {},
   "source": [
    "# 独立事件"
   ]
  },
  {
   "cell_type": "markdown",
   "metadata": {},
   "source": [
    "## 定义：\n",
    "设A,B是两个随机事件，如果  \n",
    "$P(AB) = P(A)P(B)$  \n",
    "则称A,B相互独立\n"
   ]
  },
  {
   "cell_type": "markdown",
   "metadata": {},
   "source": [
    "\n",
    "若$P(A)>0, P(B)>0$，则  \n",
    "$P(AB) = P(A)P(B)$  \n",
    "$\\Leftrightarrow P(B|A)=P(B)$  \n",
    "$\\Leftrightarrow P(A|B)=P(A)$  \n",
    "直观上来看，如果A与B相互独立，则不论A是否发生，都不能提供B是否发生的信息"
   ]
  },
  {
   "attachments": {},
   "cell_type": "markdown",
   "metadata": {},
   "source": [
    "## 性质\n",
    "\n",
    "![](images/1_21.png)\n"
   ]
  },
  {
   "attachments": {},
   "cell_type": "markdown",
   "metadata": {},
   "source": [
    "## 推广\n",
    "\n",
    "![](images/1_22.png)\n"
   ]
  },
  {
   "attachments": {},
   "cell_type": "markdown",
   "metadata": {},
   "source": [
    "![](images/1_23.png)\n",
    "\n",
    "\n",
    "$$两两独立\\nRightarrow 相互独立$$"
   ]
  },
  {
   "attachments": {},
   "cell_type": "markdown",
   "metadata": {},
   "source": [
    "## 例题\n",
    "![](images/1_24.png)\n"
   ]
  },
  {
   "cell_type": "markdown",
   "metadata": {},
   "source": [
    "(1)$P(A∪B) = P(A) + P(B) - P(AB)$ = $0.5 + 0.4 - 0.5 × 0.4$  \n",
    "(2)互不相容，即$P(AB)=0$"
   ]
  },
  {
   "attachments": {},
   "cell_type": "markdown",
   "metadata": {},
   "source": [
    "\n",
    "![](images/1_25.png)\n"
   ]
  },
  {
   "attachments": {},
   "cell_type": "markdown",
   "metadata": {},
   "source": [
    "![](images/1_26.png)\n"
   ]
  },
  {
   "attachments": {},
   "cell_type": "markdown",
   "metadata": {},
   "source": [
    "![](images/1_27.png)\n"
   ]
  },
  {
   "cell_type": "markdown",
   "metadata": {},
   "source": [
    "# 作业题"
   ]
  },
  {
   "attachments": {},
   "cell_type": "markdown",
   "metadata": {},
   "source": [
    "1.2\n",
    "![](images/1_28.png)\n"
   ]
  },
  {
   "cell_type": "markdown",
   "metadata": {
    "ExecuteTime": {
     "end_time": "2019-10-23T05:31:21.726622Z",
     "start_time": "2019-10-23T05:31:21.631503Z"
    }
   },
   "source": [
    "![](images/1_29.png)\n",
    "![](images/1_30.png)\n",
    "![](images/1_31.png)\n",
    "![](images/1_32.png)\n",
    "![](images/1_33.png)\n",
    "![](images/1_34.png)\n",
    "![](images/1_35.png)\n",
    "![](images/1_36.png)\n",
    "![](images/1_37.png)\n",
    "![](images/1_37.png)\n",
    "![](images/1_39.png)\n",
    "![](images/1_40.png)\n",
    "![](images/1_41.png)\n",
    "![](images/1_42.png)\n"
   ]
  },
  {
   "cell_type": "code",
   "execution_count": null,
   "metadata": {},
   "outputs": [],
   "source": []
  }
 ],
 "metadata": {
  "kernelspec": {
   "display_name": "Python 3",
   "language": "python",
   "name": "python3"
  },
  "language_info": {
   "codemirror_mode": {
    "name": "ipython",
    "version": 3
   },
   "file_extension": ".py",
   "mimetype": "text/x-python",
   "name": "python",
   "nbconvert_exporter": "python",
   "pygments_lexer": "ipython3",
   "version": "3.7.3"
  },
  "toc": {
   "base_numbering": 1,
   "nav_menu": {},
   "number_sections": true,
   "sideBar": true,
   "skip_h1_title": false,
   "title_cell": "Table of Contents",
   "title_sidebar": "Contents",
   "toc_cell": false,
   "toc_position": {},
   "toc_section_display": true,
   "toc_window_display": false
  },
  "varInspector": {
   "cols": {
    "lenName": 16,
    "lenType": 16,
    "lenVar": 40
   },
   "kernels_config": {
    "python": {
     "delete_cmd_postfix": "",
     "delete_cmd_prefix": "del ",
     "library": "var_list.py",
     "varRefreshCmd": "print(var_dic_list())"
    },
    "r": {
     "delete_cmd_postfix": ") ",
     "delete_cmd_prefix": "rm(",
     "library": "var_list.r",
     "varRefreshCmd": "cat(var_dic_list()) "
    }
   },
   "types_to_exclude": [
    "module",
    "function",
    "builtin_function_or_method",
    "instance",
    "_Feature"
   ],
   "window_display": false
  }
 },
 "nbformat": 4,
 "nbformat_minor": 2
}
