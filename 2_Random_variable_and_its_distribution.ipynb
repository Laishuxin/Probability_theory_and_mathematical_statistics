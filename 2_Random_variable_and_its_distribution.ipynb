{
 "cells": [
  {
   "cell_type": "markdown",
   "metadata": {},
   "source": [
    "# 随机变量"
   ]
  },
  {
   "cell_type": "markdown",
   "metadata": {},
   "source": [
    "## 定义\n"
   ]
  },
  {
   "attachments": {},
   "cell_type": "markdown",
   "metadata": {},
   "source": [
    "![](images/2_1.png)\n"
   ]
  },
  {
   "cell_type": "markdown",
   "metadata": {},
   "source": [
    "\n",
    "\n",
    "随机变量的本质是一种函数（映射关系），在古典概率模型中，“事件和事件的概率”是核心概念；但是在现代概率论中，“随机变量及其取值规律”是核心概念。"
   ]
  },
  {
   "cell_type": "markdown",
   "metadata": {},
   "source": [
    "随机变量实际上只是事件的另一种表达方式，这种表达方式更加形式化和符号化，也更加便于理解以及进行逻辑运算。不同的事件，其实就是随机变量不同取值的组合。"
   ]
  },
  {
   "cell_type": "markdown",
   "metadata": {},
   "source": [
    ">对于随机试验，我们所关心的往往是与所研究的特定问题有关的某个或某些量，而这些量就是随机变量。当然，有时我们所关心的是某个或某些特定的随机事件。例如，在特定一群人中，年收入在万元以上的高收入者，以及年收入在3000元以下的低收入者，各自的比率如何？这看上去像是两个孤立的事件。可是，若我们引入一个随机变量X：\n",
    "$$X=随机抽出一个人其年收入$$\n",
    "则X是我们关心的随机变量。上述两个事件可分别表示为${X>10000}$\n",
    "或${X<3000}$。这就看出：随机事件这个概念实际上包容在随机变量这个更广的概念之内。也可以说，随机事件是从静态的观点来研究随机现象，而随机变量则是一种动态的观点，一如数学分析中的常量与变量的区分那样，变量概念是高等数学有别于初等数学的基础概念。同样，概率论能从计算一些孤立事件的概率发展为一个更高的理论体系，其基本概念就是随机变量。"
   ]
  },
  {
   "cell_type": "markdown",
   "metadata": {},
   "source": [
    "## 常见的随机变量的分类\n",
    "1. 离散型随机变量\n",
    "2. 连续型随机变量"
   ]
  },
  {
   "attachments": {},
   "cell_type": "markdown",
   "metadata": {},
   "source": [
    "### 离散型随机变量的定义\n",
    "\n",
    "![](images/2_2.png)\n",
    "\n"
   ]
  },
  {
   "cell_type": "markdown",
   "metadata": {},
   "source": [
    "### 离散型随机变量的分布律\n"
   ]
  },
  {
   "attachments": {},
   "cell_type": "markdown",
   "metadata": {},
   "source": [
    "![](images/2_3.png)"
   ]
  },
  {
   "cell_type": "markdown",
   "metadata": {},
   "source": [
    "### 例题"
   ]
  },
  {
   "attachments": {},
   "cell_type": "markdown",
   "metadata": {},
   "source": [
    "![](images/2_4.png)"
   ]
  },
  {
   "cell_type": "markdown",
   "metadata": {},
   "source": [
    "## 常见的离散型随机变量\n",
    "+ 0-1分布(也叫两点分布/伯努利分布)\n",
    "+ 二项分布(n重伯努利分布)\n",
    "+ 几何分布\n",
    "+ 泊松分布\n",
    "+ 超几何分布"
   ]
  },
  {
   "attachments": {},
   "cell_type": "markdown",
   "metadata": {},
   "source": [
    "### 0-1分布\n",
    "##### 定义\n",
    "![](images/2_5.png)"
   ]
  },
  {
   "attachments": {},
   "cell_type": "markdown",
   "metadata": {},
   "source": [
    "![](images/2_6.png)"
   ]
  },
  {
   "cell_type": "markdown",
   "metadata": {},
   "source": [
    "##### 例题"
   ]
  },
  {
   "attachments": {},
   "cell_type": "markdown",
   "metadata": {},
   "source": [
    "![](images/2_7.png)\n"
   ]
  },
  {
   "cell_type": "markdown",
   "metadata": {},
   "source": [
    "##### 现实生活中的例子\n",
    "+ 检查产品的质量是否合格\n",
    "+ 对新生婴儿的性别进行登记\n",
    "+ 检验种子是否发芽\n",
    "+ 考试是否通过"
   ]
  },
  {
   "cell_type": "markdown",
   "metadata": {},
   "source": [
    "### 二项分布"
   ]
  },
  {
   "attachments": {},
   "cell_type": "markdown",
   "metadata": {},
   "source": [
    "#### 定义\n",
    "![](images/2_8.png)\n"
   ]
  },
  {
   "attachments": {},
   "cell_type": "markdown",
   "metadata": {},
   "source": [
    "![](images/2_9.png)"
   ]
  },
  {
   "attachments": {},
   "cell_type": "markdown",
   "metadata": {},
   "source": [
    "![](images/2_10.png)\n"
   ]
  },
  {
   "cell_type": "markdown",
   "metadata": {},
   "source": [
    "### 泊松分布"
   ]
  },
  {
   "cell_type": "markdown",
   "metadata": {},
   "source": [
    "#### 定义"
   ]
  },
  {
   "attachments": {},
   "cell_type": "markdown",
   "metadata": {},
   "source": [
    "![](images/2_11.png)"
   ]
  },
  {
   "cell_type": "markdown",
   "metadata": {},
   "source": [
    "由$$\\sum_{k=0}^{+\\infty}P(X=k)=1$$  \n",
    "$=>$  \n",
    "$$\\sum_{k=0}^{+\\infty} \\frac{\\lambda^k e^{-\\lambda}}{k!} = 1$$\n",
    "$=>$  \n",
    "$$e^{\\lambda} = \\sum_{k=0}^{+\\infty} \\frac{\\lambda^k}{k!}$$\n"
   ]
  },
  {
   "cell_type": "markdown",
   "metadata": {},
   "source": [
    "#### 泊松分布的应用\n"
   ]
  },
  {
   "cell_type": "markdown",
   "metadata": {},
   "source": [
    "+ 某人一天内收到的微信的数量\n",
    "+ 来到某公共汽车站的乘客\n",
    "+ 某放射性物质发射出的粒子\n",
    "+ 显微镜下某区域中的白血球\n",
    "+ 服务器的流量  \n",
    "\n",
    "如果某事件以固定强度λ,随机且独立地出现，该事件在单位时间内出现的次数（个数）可以看成是服从泊松分布. "
   ]
  },
  {
   "cell_type": "markdown",
   "metadata": {},
   "source": [
    "#### 二项分布与泊松分布的关系\n",
    "当$n>10, p<0.1$时(n很大，或p很小)，二项分布$B(n,p)$可以用泊松分布$\\pi(np)$来近似  \n",
    "(参见：下边python实现内容，图0-5.1和0-5.2)\n",
    "\n"
   ]
  },
  {
   "cell_type": "markdown",
   "metadata": {},
   "source": [
    "二项分布与泊松分布有以下近似公式：  \n",
    "当$n>10, p<0.1$时，  \n",
    "$C_n^k p^k(1-p)^{n-k} \\approx \\frac{e^{-\\lambda}\\lambda^k}{k!}, 其中\\lambda=np$"
   ]
  },
  {
   "attachments": {},
   "cell_type": "markdown",
   "metadata": {},
   "source": [
    "![](images/2_12.png)"
   ]
  },
  {
   "cell_type": "markdown",
   "metadata": {},
   "source": [
    "### 几何分布\n",
    "(试验进行到第一个出现某种结果为止)\n"
   ]
  },
  {
   "attachments": {},
   "cell_type": "markdown",
   "metadata": {},
   "source": [
    "#### 定义\n",
    "![](images/2_13.png)\n"
   ]
  },
  {
   "cell_type": "markdown",
   "metadata": {},
   "source": [
    "## 分布函数"
   ]
  },
  {
   "cell_type": "markdown",
   "metadata": {},
   "source": [
    "### 定义"
   ]
  },
  {
   "attachments": {},
   "cell_type": "markdown",
   "metadata": {},
   "source": [
    "![](images/2_15.png)"
   ]
  },
  {
   "attachments": {},
   "cell_type": "markdown",
   "metadata": {},
   "source": [
    "![](images/2_16.png)"
   ]
  },
  {
   "attachments": {},
   "cell_type": "markdown",
   "metadata": {},
   "source": [
    "![](images/2_18.png)"
   ]
  },
  {
   "cell_type": "markdown",
   "metadata": {},
   "source": [
    "### 性质"
   ]
  },
  {
   "attachments": {},
   "cell_type": "markdown",
   "metadata": {},
   "source": [
    "![](images/2_19.png)"
   ]
  },
  {
   "attachments": {},
   "cell_type": "markdown",
   "metadata": {},
   "source": [
    "\n",
    "### 例题\n",
    "![](images/2_20.png)"
   ]
  },
  {
   "cell_type": "markdown",
   "metadata": {},
   "source": [
    "## 连续性随机变量"
   ]
  },
  {
   "attachments": {},
   "cell_type": "markdown",
   "metadata": {},
   "source": [
    "### 定义\n",
    "![](images/2_21.png)"
   ]
  },
  {
   "cell_type": "markdown",
   "metadata": {},
   "source": [
    "### 性质\n"
   ]
  },
  {
   "attachments": {},
   "cell_type": "markdown",
   "metadata": {},
   "source": [
    "![](images/2_22.png)"
   ]
  },
  {
   "attachments": {},
   "cell_type": "markdown",
   "metadata": {},
   "source": [
    "![](images/2_23.png)"
   ]
  },
  {
   "attachments": {},
   "cell_type": "markdown",
   "metadata": {},
   "source": [
    "![](images/2_24.png)"
   ]
  },
  {
   "attachments": {},
   "cell_type": "markdown",
   "metadata": {},
   "source": [
    "### 例题\n"
   ]
  },
  {
   "attachments": {},
   "cell_type": "markdown",
   "metadata": {},
   "source": [
    "![](images/2_25.png)"
   ]
  },
  {
   "attachments": {},
   "cell_type": "markdown",
   "metadata": {},
   "source": [
    "![](images/2_26.png)"
   ]
  },
  {
   "attachments": {},
   "cell_type": "markdown",
   "metadata": {},
   "source": [
    "![](images/2_27.png)"
   ]
  },
  {
   "cell_type": "markdown",
   "metadata": {},
   "source": [
    "### 常见连续性随机变量"
   ]
  },
  {
   "cell_type": "markdown",
   "metadata": {},
   "source": [
    "+ 均匀分布(Uniform), $X \\sim U(a, b)$\n",
    "+ 指数分布(Exponential)  $X \\sim E(\\lambda)$\n",
    "+ 正态分布(Normal)  $X \\sim N(\\mu, \\sigma^2)$"
   ]
  },
  {
   "cell_type": "markdown",
   "metadata": {},
   "source": [
    "#### 均匀分布\n",
    "##### 定义\n"
   ]
  },
  {
   "attachments": {},
   "cell_type": "markdown",
   "metadata": {},
   "source": [
    "![](images/2_28.png)"
   ]
  },
  {
   "cell_type": "markdown",
   "metadata": {},
   "source": [
    "##### 性质\n"
   ]
  },
  {
   "attachments": {},
   "cell_type": "markdown",
   "metadata": {},
   "source": [
    "![](images/2_29.png)"
   ]
  },
  {
   "attachments": {},
   "cell_type": "markdown",
   "metadata": {},
   "source": [
    "![](images/2_30.png)"
   ]
  },
  {
   "cell_type": "markdown",
   "metadata": {},
   "source": [
    "##### 例题\n"
   ]
  },
  {
   "attachments": {},
   "cell_type": "markdown",
   "metadata": {},
   "source": [
    "![](images/2_31.png)"
   ]
  },
  {
   "cell_type": "markdown",
   "metadata": {},
   "source": [
    "#### 指数分布"
   ]
  },
  {
   "cell_type": "markdown",
   "metadata": {},
   "source": [
    "##### 定义"
   ]
  },
  {
   "attachments": {},
   "cell_type": "markdown",
   "metadata": {},
   "source": [
    "![](images/2_32.png)"
   ]
  },
  {
   "cell_type": "markdown",
   "metadata": {},
   "source": [
    "##### 性质"
   ]
  },
  {
   "attachments": {},
   "cell_type": "markdown",
   "metadata": {},
   "source": [
    "![](images/2_33.png)"
   ]
  },
  {
   "cell_type": "markdown",
   "metadata": {},
   "source": [
    "##### 应用\n",
    "+ 指数分布可以用来表示独立随机事件发生的时间间隔，比如旅客进机场的时间间隔、中文维基百科新条目出现的时间间隔等等\n",
    "+ 在排队论中，一个顾客接受服务的时间长短也可用指数分布来近似\n",
    "+ 无记忆性的现象(连续时)."
   ]
  },
  {
   "cell_type": "markdown",
   "metadata": {},
   "source": [
    "##### 例题"
   ]
  },
  {
   "attachments": {},
   "cell_type": "markdown",
   "metadata": {},
   "source": [
    "![](images/2_34.png)"
   ]
  },
  {
   "attachments": {},
   "cell_type": "markdown",
   "metadata": {},
   "source": [
    "![](images/2_35.png)"
   ]
  },
  {
   "attachments": {},
   "cell_type": "markdown",
   "metadata": {},
   "source": [
    "![](images/2_36.png)"
   ]
  },
  {
   "cell_type": "markdown",
   "metadata": {},
   "source": [
    "#### 正态分布"
   ]
  },
  {
   "cell_type": "markdown",
   "metadata": {},
   "source": [
    "##### 定义"
   ]
  },
  {
   "attachments": {},
   "cell_type": "markdown",
   "metadata": {},
   "source": [
    "![](images/2_39.png)"
   ]
  },
  {
   "attachments": {},
   "cell_type": "markdown",
   "metadata": {},
   "source": [
    "##### 参数(μ，σ)的意义\n",
    "$\\mu$：均值  \n",
    "$\\sigma$：标准差\n",
    "![](images/2_40.png)"
   ]
  },
  {
   "cell_type": "markdown",
   "metadata": {},
   "source": [
    "##### 正态分布的用途\n",
    "+ 自然界和人类社会中很多现象可以看做正态分布如:  人的生理尺寸(身高、体重);医学检验指标(红细胞数、血小板);测量误差;等等\n",
    "+ 多个随机变量的和可以用正态分布来近似(参见：中心极限定理)"
   ]
  },
  {
   "attachments": {},
   "cell_type": "markdown",
   "metadata": {},
   "source": [
    "##### 正态分布的概率计算\n",
    "![](images/2_41.png)\n"
   ]
  },
  {
   "cell_type": "markdown",
   "metadata": {},
   "source": [
    "+ 方法一：数值积分法\n",
    "+ 方法二：转换为标准正态分布$\\frac{X-\\mu}{\\sigma} \\sim N(0, 1)$,然后利用标准正态分布表求解\n",
    "+ 方法三：利用Excel，Matlab，Python等软件进行计算"
   ]
  },
  {
   "cell_type": "markdown",
   "metadata": {},
   "source": [
    "#### 标准正态分布"
   ]
  },
  {
   "attachments": {},
   "cell_type": "markdown",
   "metadata": {},
   "source": [
    "![](images/2_42.png)"
   ]
  },
  {
   "attachments": {},
   "cell_type": "markdown",
   "metadata": {},
   "source": [
    "![](images/2_43.png)"
   ]
  },
  {
   "cell_type": "markdown",
   "metadata": {},
   "source": [
    "#### 性质"
   ]
  },
  {
   "attachments": {},
   "cell_type": "markdown",
   "metadata": {},
   "source": [
    "![](images/2_44.png)"
   ]
  },
  {
   "cell_type": "markdown",
   "metadata": {},
   "source": [
    "#### 例题\n"
   ]
  },
  {
   "attachments": {},
   "cell_type": "markdown",
   "metadata": {},
   "source": [
    "![](images/2_45.png)"
   ]
  },
  {
   "attachments": {},
   "cell_type": "markdown",
   "metadata": {},
   "source": [
    "![](images/2_46.png)"
   ]
  },
  {
   "cell_type": "markdown",
   "metadata": {},
   "source": [
    "# python实现"
   ]
  },
  {
   "cell_type": "markdown",
   "metadata": {},
   "source": [
    "## 一维离散型随机变量"
   ]
  },
  {
   "cell_type": "code",
   "execution_count": 1,
   "metadata": {
    "ExecuteTime": {
     "end_time": "2019-10-24T11:21:45.856990Z",
     "start_time": "2019-10-24T11:21:42.318372Z"
    }
   },
   "outputs": [],
   "source": [
    "import numpy as np\n",
    "from scipy import stats\n",
    "import matplotlib.pyplot as plt"
   ]
  },
  {
   "cell_type": "markdown",
   "metadata": {},
   "source": [
    "利用scipy 调用一个分布函数的常用方法\n",
    "+ 初始化一个分布函数\n",
    "+ 调用该分布函数的方法或计算其数值的特征"
   ]
  },
  {
   "cell_type": "markdown",
   "metadata": {},
   "source": [
    "### 正态分布"
   ]
  },
  {
   "cell_type": "code",
   "execution_count": 61,
   "metadata": {
    "ExecuteTime": {
     "end_time": "2019-10-24T23:51:15.275668Z",
     "start_time": "2019-10-24T23:51:14.827947Z"
    }
   },
   "outputs": [
    {
     "data": {
      "image/png": "[encoded data removed]",
      "text/plain": [
       "<Figure size 432x288 with 2 Axes>"
      ]
     },
     "metadata": {
      "needs_background": "light"
     },
     "output_type": "display_data"
    }
   ],
   "source": [
    "# 创建一个冻结的均值为5，标准差为3正态分布(frozen distribution)\n",
    "mu = 5\n",
    "sigma = 3\n",
    "norm_dis = stats.norm(mu, sigma)\n",
    "\n",
    "# 在3个标准差(sigma)上均匀取101个点\n",
    "x = np.linspace(mu-3*sigma, mu+3*sigma, 101)\n",
    "\n",
    "# 计算该分布在x中的点的概率密度分布函数值PDF(即，概率P)\n",
    "pdf = norm_dis.pdf(x)\n",
    "\n",
    "# 计算该分布在x中的每个点的累积分布函数值(即，概率论里边的分布函数F（X）)\n",
    "cdf = norm_dis.cdf(x)\n",
    "\n",
    "# 准备画两个图(两行一列)\n",
    "# 上边的图为正态分布坐标和概率\n",
    "# 下边的图为正态分布坐标和分布函数\n",
    "plt.figure(1)\n",
    "\n",
    "# 先画第一个图，两行一列，第一个图(子图)\n",
    "plt.subplot(211)\n",
    "# plt.plot(x, y, '怎么画图'，'设置标签')\n",
    "plt.plot(x, pdf, 'b-', label='pdf')\n",
    "# 设置y轴的标签为Probability(概率)\n",
    "plt.ylabel('Probability')\n",
    "# 设置x轴的标签为x\n",
    "plt.xlabel('x')\n",
    "# 设置图像标题\n",
    "plt.title(r'PDF/CDF of normal distribution')\n",
    "# 在坐标(-4, 0.1) 打印一段文字\n",
    "plt.text(-4, .1, r'$\\mu=5,  \\sigma=3$')\n",
    "# 在右上角显示图像的标签,标签不显示边框\n",
    "plt.legend(loc='best', frameon=False)\n",
    "\n",
    "\n",
    "# 开始画第二个图\n",
    "plt.subplot(212)\n",
    "plt.plot(x, cdf, 'r-', label='cdf')\n",
    "plt.ylabel('Probability')\n",
    "plt.legend(loc='best', frameon=False)\n",
    "\n",
    "# 将图片展示\n",
    "plt.show()"
   ]
  },
  {
   "cell_type": "markdown",
   "metadata": {
    "ExecuteTime": {
     "end_time": "2019-10-24T23:49:29.991286Z",
     "start_time": "2019-10-24T23:49:29.745190Z"
    }
   },
   "source": [
    "$$图0-1: 正态分布X\\sim N(5,3^2) 的概率密度函数和分布函数$$"
   ]
  },
  {
   "cell_type": "markdown",
   "metadata": {},
   "source": [
    "### 0-1分布"
   ]
  },
  {
   "cell_type": "markdown",
   "metadata": {},
   "source": [
    "伯努利分布（英语：Bernoulli distribution，又名两点分布或者0-1分布，是一个离散型概率分布，为纪念瑞士科学家雅各布·伯努利而命名。)若伯努利试验成功，则伯努利随机变量取值为1。若伯努利试验失败，则伯努利随机变量取值为0。记其成功概率为$p(0≤p≤1)$，失败概率为$q=1−p$。则其概率质量函数（PMF）为："
   ]
  },
  {
   "cell_type": "markdown",
   "metadata": {},
   "source": [
    "$$\\begin{equation} \\nonumber P_X(x) = \\left\\{ \\begin{array}{1 1} P& \\quad \\text{for } x=1\\\\ 1-p& \\quad \\text{for} x=0\\\\ 0 & \\quad \\text{otherwise} \\end{array} \\right. \\end{equation}$$"
   ]
  },
  {
   "cell_type": "markdown",
   "metadata": {},
   "source": [
    "![](https://images2017.cnblogs.com/blog/1035701/201708/1035701-20170821224150121-1019310671.png)"
   ]
  },
  {
   "cell_type": "code",
   "execution_count": 216,
   "metadata": {
    "ExecuteTime": {
     "end_time": "2019-10-25T00:59:28.103405Z",
     "start_time": "2019-10-25T00:59:27.889083Z"
    }
   },
   "outputs": [
    {
     "data": {
      "image/png": "[encoded data removed]",
      "text/plain": [
       "<Figure size 432x288 with 1 Axes>"
      ]
     },
     "metadata": {
      "needs_background": "light"
     },
     "output_type": "display_data"
    }
   ],
   "source": [
    "# bernoilli distribution\n",
    "\n",
    "# 创建冻结的伯努利分布，并设置概率为p\n",
    "p = 0.3\n",
    "ber_dist = stats.bernoulli(p)\n",
    "# 设置x的取值\n",
    "x = [0, 1]\n",
    "x_name = ['0', '1']\n",
    "\n",
    "# 0-1分布的质量函数(Probability mass function)\n",
    "pmf = ber_dist.pmf(x)\n",
    "# 画图（柱状图，柱子的宽度为0.15）\n",
    "plt.bar(x, pmf, width=0.15)\n",
    "plt.xticks(x, x_name)\n",
    "plt.ylabel('Probability')\n",
    "plt.title('PMF of Bernoulli distribution')\n",
    "plt.show()"
   ]
  },
  {
   "cell_type": "markdown",
   "metadata": {},
   "source": [
    "$$图0-2 \\space \\space \\space 0-1分布的概率质量函数$$"
   ]
  },
  {
   "cell_type": "markdown",
   "metadata": {},
   "source": [
    "### 二项分布"
   ]
  },
  {
   "cell_type": "code",
   "execution_count": 159,
   "metadata": {
    "ExecuteTime": {
     "end_time": "2019-10-25T00:37:59.606156Z",
     "start_time": "2019-10-25T00:37:59.594367Z"
    }
   },
   "outputs": [
    {
     "name": "stdout",
     "output_type": "stream",
     "text": [
      "试验发生的次数分别为： [10 12 12 12 11]\n",
      "试验发生的概率分别为： [0.11714155 0.17970579 0.17970579 0.17970579 0.15973848]\n"
     ]
    }
   ],
   "source": [
    "def binom_distribution(n=1, p=0.1):\n",
    "    \"\"\"\n",
    "    定义一个二项分布的函数\n",
    "    : n：试验次数 默认为1\n",
    "    ：p：单次试验发生的概率  默认为0.1\n",
    "    \"\"\"\n",
    "    binom_dis = stats.binom(n, p)\n",
    "    # 模拟结果 binom_dis.rvs(size=模拟的次数)\n",
    "    simulation_result = binom_dis.rvs(size=5)  \n",
    "    print('试验发生的次数分别为：',simulation_result)\n",
    "    # 计算模拟结果发生的概率\n",
    "    probabilities = binom_dis.pmf(simulation_result)\n",
    "    print('试验发生的概率分别为：',probabilities)\n",
    "    \n",
    "# 相当于 X-B（20， 0.6）\n",
    "binom_distribution(20, 0.6)\n"
   ]
  },
  {
   "cell_type": "code",
   "execution_count": 205,
   "metadata": {
    "ExecuteTime": {
     "end_time": "2019-10-25T00:55:12.517023Z",
     "start_time": "2019-10-25T00:55:12.211738Z"
    }
   },
   "outputs": [
    {
     "data": {
      "image/png": "[encoded data removed]",
      "text/plain": [
       "<Figure size 432x288 with 1 Axes>"
      ]
     },
     "metadata": {
      "needs_background": "light"
     },
     "output_type": "display_data"
    }
   ],
   "source": [
    "def binom_pmf(n=1, p=0.1):\n",
    "    \"\"\"\n",
    "    二项分布有两个参数\n",
    "    :param n:试验次数\n",
    "    :param p:单次实验成功的概率\n",
    "    :return:\n",
    "    \"\"\"\n",
    "    binom_dis = stats.binom(n, p)\n",
    "    \n",
    "    # 列出x轴\n",
    "    # ppf:累积分布函数的反函数，ppf就是p(X<x)=0.0001时的x值。\n",
    "    x = np.arange(binom_dis.ppf(0.0001), binom_dis.ppf(0.9999))\n",
    "    \n",
    "    # 画图\n",
    "    plt.plot(x, binom_dis.pmf(x), 'boB', label='binom pmf')\n",
    "    plt.vlines(x, 0, binom_dis.pmf(x), colors='b', lw=5, alpha=0.5)\n",
    "    plt.legend(loc='best', frameon=False)\n",
    "    plt.ylabel('Probability')\n",
    "    plt.title('PMF of binomial distribution(n={}, p={})'.format(n, p))\n",
    "    plt.show()\n",
    "\n",
    "binom_pmf(n=20, p=0.6)"
   ]
  },
  {
   "cell_type": "markdown",
   "metadata": {},
   "source": [
    "$$图0-3  \\space 二项分布的概率质量函数$$"
   ]
  },
  {
   "cell_type": "markdown",
   "metadata": {
    "ExecuteTime": {
     "end_time": "2019-10-25T00:49:59.913647Z",
     "start_time": "2019-10-25T00:49:59.905639Z"
    }
   },
   "source": [
    "### 泊松分布"
   ]
  },
  {
   "cell_type": "markdown",
   "metadata": {},
   "source": [
    "泊松分布适合于描述单位时间内随机事件发生的次数的概率分布。如某一服务设施在一定时间内受到的服务请求的次数，电话交换机接到呼叫的次数、汽车站台的候客人数、机器出现的故障数、自然灾害发生的次数、DNA序列的变异数、放射性原子核的衰变数、激光的光子数分布等等。\n",
    "\n",
    " "
   ]
  },
  {
   "cell_type": "code",
   "execution_count": 251,
   "metadata": {
    "ExecuteTime": {
     "end_time": "2019-10-25T01:48:28.035612Z",
     "start_time": "2019-10-25T01:48:27.740426Z"
    }
   },
   "outputs": [
    {
     "data": {
      "image/png": "[encoded data removed]",
      "text/plain": [
       "<Figure size 432x288 with 1 Axes>"
      ]
     },
     "metadata": {
      "needs_background": "light"
     },
     "output_type": "display_data"
    }
   ],
   "source": [
    "def poisson_pmf(lambda_=3):\n",
    "    \"\"\"\n",
    "    定义一个泊松分布函数，即X~Π(λ)\n",
    "    lambda_: 泊松分布的参数，默认为3\n",
    "    \"\"\"\n",
    "    # 创建泊松分布\n",
    "    poisson_dis = stats.poisson(lambda_)\n",
    "    # 设置x轴\n",
    "    x = np.arange(poisson_dis.ppf(0.001), poisson_dis.ppf(0.999))\n",
    "    # 计算对应x轴的点，泊松分布发生的概率\n",
    "    pmf = poisson_dis.pmf(x)\n",
    "    \n",
    "    # 画图\n",
    "    # ms:点的大小\n",
    "    plt.plot(x, pmf, 'bo', ms=6,label='poisson pmf')\n",
    "    # 画图垂直线，lw:(lines width)线的宽度, alpha:透明度\n",
    "    plt.vlines(x, 0, pmf, colors='b', lw=3, alpha=0.5)\n",
    "    plt.legend(loc='best', frameon=False)\n",
    "    plt.show()\n",
    "    \n",
    "poisson_pmf(8)"
   ]
  },
  {
   "cell_type": "markdown",
   "metadata": {},
   "source": [
    "$$图0-4   \\space 泊松分布的概率质量函数$$"
   ]
  },
  {
   "cell_type": "markdown",
   "metadata": {},
   "source": [
    "\n",
    "### 泊松分布与二项分布的关系"
   ]
  },
  {
   "cell_type": "code",
   "execution_count": 280,
   "metadata": {
    "ExecuteTime": {
     "end_time": "2019-10-25T01:58:31.428906Z",
     "start_time": "2019-10-25T01:58:31.424822Z"
    }
   },
   "outputs": [],
   "source": [
    "# 创建二项分布函数(还没调用)\n",
    "def binom_and_poisson_pmf(n, p, lambda_=None):\n",
    "    \"\"\"\n",
    "    定义一个二项分布：X~B（n, p）\n",
    "    : n:试验次数\n",
    "    : p:单次试验发生的概率\n",
    "    : lambda_: 泊松分布的参数, 默认不传, 可以通过lambda_=n*p 求出\n",
    "    return:返回x轴，二项分布概率质量函数，泊松分布概率质量函数\n",
    "    \"\"\"\n",
    "    # 创建一个泊松分布\n",
    "    lambda_ = n * p\n",
    "    poission_dis = stats.poisson(lambda_)\n",
    "    # 设置x轴\n",
    "    x = np.arange(poission_dis.ppf(0.001), poission_dis.ppf(0.999))\n",
    "    # 计算泊松分布对应所有x轴的点，泊松分布的概率质量函数\n",
    "    # 如：x=1,算出P(x=1)\n",
    "    poission_pmf = poission_dis.pmf(x)\n",
    "\n",
    "    # 创建一个二项分布\n",
    "    binom_dis = stats.binom(n, p)\n",
    "    # 计算二项分布对应所有x轴的点，二项分布的概率质量函数\n",
    "    # 如：x=1,算出P(x=1)\n",
    "    binom_pmf = binom_dis.pmf(x)\n",
    "\n",
    "    return x, binom_pmf, poission_pmf"
   ]
  },
  {
   "cell_type": "code",
   "execution_count": 281,
   "metadata": {
    "ExecuteTime": {
     "end_time": "2019-10-25T01:58:32.103719Z",
     "start_time": "2019-10-25T01:58:32.098719Z"
    }
   },
   "outputs": [],
   "source": [
    "def drawn(x, binom_pmf, possion_pmf):\n",
    "    \"\"\"\n",
    "    定义画图函数\n",
    "    : x: x轴\n",
    "    : binom_pmf, possion_pmf(y轴)：二项分布和泊松分布的概率质量函数值\n",
    "    \"\"\"\n",
    "    plt.plot(x, binom_pmf, 'b-', label='binom (n={}, p={})'.format(n, p))\n",
    "    plt.plot(x, poission_pmf, 'r--', label='poissiom (λ={})'.format(n * p))\n",
    "    plt.ylabel('Probability')\n",
    "    plt.title('Comparing PMF of Poission Dist. and Binomal Dist.')\n",
    "    plt.legend(loc='best', frameon=False)\n",
    "    plt.show()"
   ]
  },
  {
   "cell_type": "markdown",
   "metadata": {},
   "source": [
    "如果仅仅是看二项分布与泊松分布的概率质量分布图，也可以发现它们的相似度非常高。事实上这两个分布内在联系十分紧密。泊松分布可以作为二项分布的极限得到。一般来说，若$X∼B(n,p)$，其中$n$很大，$p$很小，而$np=λ$不太大时，则X的分布接近于泊松分布$X \\sim \\pi(λ)$\n",
    "\n",
    "从下图中可以非常直观的看到两者的关系：  \n",
    "图0-5.1，当n很小，p很大时，两者的关系并不是很明显  \n",
    "图0-5.1，当n很大，p很小时，泊松分布，与二项分布的概率质量函数非常接近\n",
    " "
   ]
  },
  {
   "cell_type": "code",
   "execution_count": 282,
   "metadata": {
    "ExecuteTime": {
     "end_time": "2019-10-25T01:58:34.165790Z",
     "start_time": "2019-10-25T01:58:33.880937Z"
    }
   },
   "outputs": [
    {
     "data": {
      "image/png": "[encoded data removed]",
      "text/plain": [
       "<Figure size 432x288 with 1 Axes>"
      ]
     },
     "metadata": {
      "needs_background": "light"
     },
     "output_type": "display_data"
    }
   ],
   "source": [
    "# 设置二项分布试验次数n，和单次试验发生的概率p\n",
    "# 先做8次试验，每次发生的概率为0.5(泊松分布的参数λ=4)\n",
    "n, p = 8, 0.5\n",
    "\n",
    "# 接收函数返回值\n",
    "x, binom_pmf, poission_pmf = binom_and_poisson_pmf(n, p)\n",
    "\n",
    "# 调用画图函数\n",
    "drawn(x, binom_pmf, poission_pmf)"
   ]
  },
  {
   "cell_type": "markdown",
   "metadata": {},
   "source": [
    "$$图0-5.1 \\space 泊松分布与二项分布质量分布函数的关系$$"
   ]
  },
  {
   "cell_type": "code",
   "execution_count": 283,
   "metadata": {
    "ExecuteTime": {
     "end_time": "2019-10-25T01:58:37.849058Z",
     "start_time": "2019-10-25T01:58:37.544863Z"
    }
   },
   "outputs": [
    {
     "data": {
      "image/png": "[encoded data removed]",
      "text/plain": [
       "<Figure size 432x288 with 1 Axes>"
      ]
     },
     "metadata": {
      "needs_background": "light"
     },
     "output_type": "display_data"
    }
   ],
   "source": [
    "# 做50次试验，每次发生的概率为0.08(泊松分布的参数λ=4)\n",
    "n, p = 50, 0.08\n",
    "x, binom_pmf, poission_pmf = binom_and_poisson_pmf(n, p)\n",
    "# 调用画图函数\n",
    "drawn(x, binom_pmf, poission_pmf)"
   ]
  },
  {
   "cell_type": "markdown",
   "metadata": {},
   "source": [
    "$$图0-5.2 \\space 泊松分布与二项分布质量分布函数的关系$$"
   ]
  },
  {
   "cell_type": "code",
   "execution_count": null,
   "metadata": {},
   "outputs": [],
   "source": []
  }
 ],
 "metadata": {
  "kernelspec": {
   "display_name": "Python 3",
   "language": "python",
   "name": "python3"
  },
  "language_info": {
   "codemirror_mode": {
    "name": "ipython",
    "version": 3
   },
   "file_extension": ".py",
   "mimetype": "text/x-python",
   "name": "python",
   "nbconvert_exporter": "python",
   "pygments_lexer": "ipython3",
   "version": "3.7.3"
  },
  "toc": {
   "base_numbering": 1,
   "nav_menu": {},
   "number_sections": true,
   "sideBar": true,
   "skip_h1_title": false,
   "title_cell": "Table of Contents",
   "title_sidebar": "Contents",
   "toc_cell": false,
   "toc_position": {
    "height": "calc(100% - 180px)",
    "left": "10px",
    "top": "150px",
    "width": "259.4px"
   },
   "toc_section_display": true,
   "toc_window_display": false
  },
  "varInspector": {
   "cols": {
    "lenName": 16,
    "lenType": 16,
    "lenVar": 40
   },
   "kernels_config": {
    "python": {
     "delete_cmd_postfix": "",
     "delete_cmd_prefix": "del ",
     "library": "var_list.py",
     "varRefreshCmd": "print(var_dic_list())"
    },
    "r": {
     "delete_cmd_postfix": ") ",
     "delete_cmd_prefix": "rm(",
     "library": "var_list.r",
     "varRefreshCmd": "cat(var_dic_list()) "
    }
   },
   "types_to_exclude": [
    "module",
    "function",
    "builtin_function_or_method",
    "instance",
    "_Feature"
   ],
   "window_display": false
  }
 },
 "nbformat": 4,
 "nbformat_minor": 2
}
